{
 "cells": [
  {
   "cell_type": "markdown",
   "id": "6b119911",
   "metadata": {},
   "source": [
    "<div id= \"table-of-contents\" style= \"font-size: 22px; font-weight: bold\">Table of Contents</div>"
   ]
  },
  {
   "cell_type": "markdown",
   "id": "f88dec0b",
   "metadata": {},
   "source": [
    "<p style= \"font-size: 16px\">1. <a href= \"#prologue\" style= \"text-decoration: none; font-size: 16px\">Prologue</a><p/>\n",
    "<p style= \"font-size: 16px\">2. <a href= \"#import-libraries\" style= \"text-decoration: none; font-size: 16px\">Importing Libraries</a><p/>\n",
    "<p style= \"font-size: 16px\">3. <a href= \"#eda\" style= \"text-decoration: none; font-size: 16px\">Exploratory Data Analysis</a><p/>\n",
    "<p style= \"font-size: 16px\">4. <a href= \"#model-engineering\" style= \"text-decoration: none; font-size: 16px\">Modeling and Feature Engineering</a><p/>\n",
    "<p style= \"font-size: 16px\">5. <a href= \"#conclusion\" style= \"text-decoration: none; font-size: 16px\">Conclusion and Future Work</a><p/>\n",
    "<p style= \"font-size: 16px\">6. <a href= \"#reference\" style= \"text-decoration: none; font-size: 16px\">Reference</a><p/>"
   ]
  },
  {
   "cell_type": "markdown",
   "id": "55c5e01a",
   "metadata": {},
   "source": [
    "<div id= \"prologue\" style= \"font-size: 22px; font-weight: bold\">Prologue</div>"
   ]
  },
  {
   "cell_type": "markdown",
   "id": "a0a86f9f",
   "metadata": {},
   "source": [
    "<a href= \"#table-of-contents\" style= \"text-decoration: none; font-size: 14px\">Back to Top</a>"
   ]
  },
  {
   "cell_type": "markdown",
   "id": "934be487",
   "metadata": {},
   "source": [
    "<p style= \"font-size: 16px\">In the world of data-driven decision-making, the art of predictive modeling has become an invaluable tool for businesses seeking to optimize their strategies. Among the many challenges they face, insurance companies grapple with identifying potential customers for their offerings, such as vehicle insurance. With a plethora of features ranging from age to region codes, this journey delves into the intricacies of predictive modeling. Along the way, techniques like feature engineering, interaction, aggregation, and hyperparameter tuning are explored to maximize model performance.</p> \n",
    "<p style= \"font-size: 18px; font-weight: bold\">Dataset: Health Insurance Cross Sell Prediction</p>\n",
    "<p style= \"font-size: 16px\">The dataset is a rich source for exploring the relationships between these factors and customer interest in vehicle insurance. Data scientists engage in exploratory data analysis (EDA), feature engineering, and predictive modeling to build a model that can accurately forecast customer intent. <br>\n",
    "As the insurance industry increasingly embraces data-driven decision-making, this dataset offers a practical and intriguing case study, showcasing the intersection of data science and insurance. It serves as a compelling example of how predictive analytics can enhance business strategies and customer outreach in this evolving landscape.</p> \n",
    "<p style= \"font-size: 16px\">You can access the dataset <a href=\"https://www.kaggle.com/datasets/anmolkumar/health-insurance-cross-sell-prediction/data?select=train.csv\"> here</a>.</p>"
   ]
  },
  {
   "cell_type": "markdown",
   "id": "28087b2c",
   "metadata": {},
   "source": [
    "<div id= \"import-libraries\" style= \"font-size: 22px; font-weight: bold\">Importing Libraries</div>"
   ]
  },
  {
   "cell_type": "markdown",
   "id": "4fa498ea",
   "metadata": {},
   "source": [
    "<a href= \"#table-of-contents\" style= \"text-decoration: none; font-size: 14px\">Back to Top</a>"
   ]
  },
  {
   "cell_type": "code",
   "execution_count": 1,
   "id": "b3cb7dfd",
   "metadata": {},
   "outputs": [],
   "source": [
    "import pandas as pd\n",
    "import numpy as np \n",
    "import matplotlib.pyplot as plt\n",
    "import seaborn as sns\n",
    "import plotly.express as px\n",
    "\n",
    "from sklearn.preprocessing import StandardScaler, MinMaxScaler\n",
    "from sklearn.model_selection import train_test_split, RandomizedSearchCV\n",
    "from sklearn.ensemble import RandomForestClassifier\n",
    "from sklearn.metrics import roc_auc_score, roc_curve"
   ]
  },
  {
   "cell_type": "markdown",
   "id": "f1bb98e7",
   "metadata": {},
   "source": [
    "<div id= \"eda\" style= \"font-size: 22px; font-weight: bold\">Exploratory Data Analysis</div>"
   ]
  },
  {
   "cell_type": "markdown",
   "id": "398aa81e",
   "metadata": {},
   "source": [
    "<a href= \"#table-of-contents\" style= \"text-decoration: none; font-size: 14px\">Back to Top</a>"
   ]
  },
  {
   "cell_type": "code",
   "execution_count": 2,
   "id": "fd5674ba",
   "metadata": {},
   "outputs": [],
   "source": [
    "train_df = pd.read_csv('train.csv')"
   ]
  },
  {
   "cell_type": "code",
   "execution_count": 3,
   "id": "9dc7a7db",
   "metadata": {},
   "outputs": [
    {
     "name": "stdout",
     "output_type": "stream",
     "text": [
      "<class 'pandas.core.frame.DataFrame'>\n",
      "RangeIndex: 381109 entries, 0 to 381108\n",
      "Data columns (total 12 columns):\n",
      " #   Column                Non-Null Count   Dtype  \n",
      "---  ------                --------------   -----  \n",
      " 0   id                    381109 non-null  int64  \n",
      " 1   Gender                381109 non-null  object \n",
      " 2   Age                   381109 non-null  int64  \n",
      " 3   Driving_License       381109 non-null  int64  \n",
      " 4   Region_Code           381109 non-null  float64\n",
      " 5   Previously_Insured    381109 non-null  int64  \n",
      " 6   Vehicle_Age           381109 non-null  object \n",
      " 7   Vehicle_Damage        381109 non-null  object \n",
      " 8   Annual_Premium        381109 non-null  float64\n",
      " 9   Policy_Sales_Channel  381109 non-null  float64\n",
      " 10  Vintage               381109 non-null  int64  \n",
      " 11  Response              381109 non-null  int64  \n",
      "dtypes: float64(3), int64(6), object(3)\n",
      "memory usage: 34.9+ MB\n"
     ]
    }
   ],
   "source": [
    "train_df.info()"
   ]
  },
  {
   "cell_type": "code",
   "execution_count": 5,
   "id": "349eca0a",
   "metadata": {},
   "outputs": [
    {
     "data": {
      "text/html": [
       "<div>\n",
       "<style scoped>\n",
       "    .dataframe tbody tr th:only-of-type {\n",
       "        vertical-align: middle;\n",
       "    }\n",
       "\n",
       "    .dataframe tbody tr th {\n",
       "        vertical-align: top;\n",
       "    }\n",
       "\n",
       "    .dataframe thead th {\n",
       "        text-align: right;\n",
       "    }\n",
       "</style>\n",
       "<table border=\"1\" class=\"dataframe\">\n",
       "  <thead>\n",
       "    <tr style=\"text-align: right;\">\n",
       "      <th></th>\n",
       "      <th>id</th>\n",
       "      <th>Gender</th>\n",
       "      <th>Age</th>\n",
       "      <th>Driving_License</th>\n",
       "      <th>Region_Code</th>\n",
       "      <th>Previously_Insured</th>\n",
       "      <th>Vehicle_Age</th>\n",
       "      <th>Vehicle_Damage</th>\n",
       "      <th>Annual_Premium</th>\n",
       "      <th>Policy_Sales_Channel</th>\n",
       "      <th>Vintage</th>\n",
       "      <th>Response</th>\n",
       "    </tr>\n",
       "  </thead>\n",
       "  <tbody>\n",
       "    <tr>\n",
       "      <th>0</th>\n",
       "      <td>1</td>\n",
       "      <td>Male</td>\n",
       "      <td>44</td>\n",
       "      <td>1</td>\n",
       "      <td>28.0</td>\n",
       "      <td>0</td>\n",
       "      <td>&gt; 2 Years</td>\n",
       "      <td>Yes</td>\n",
       "      <td>40454.0</td>\n",
       "      <td>26.0</td>\n",
       "      <td>217</td>\n",
       "      <td>1</td>\n",
       "    </tr>\n",
       "    <tr>\n",
       "      <th>1</th>\n",
       "      <td>2</td>\n",
       "      <td>Male</td>\n",
       "      <td>76</td>\n",
       "      <td>1</td>\n",
       "      <td>3.0</td>\n",
       "      <td>0</td>\n",
       "      <td>1-2 Year</td>\n",
       "      <td>No</td>\n",
       "      <td>33536.0</td>\n",
       "      <td>26.0</td>\n",
       "      <td>183</td>\n",
       "      <td>0</td>\n",
       "    </tr>\n",
       "    <tr>\n",
       "      <th>2</th>\n",
       "      <td>3</td>\n",
       "      <td>Male</td>\n",
       "      <td>47</td>\n",
       "      <td>1</td>\n",
       "      <td>28.0</td>\n",
       "      <td>0</td>\n",
       "      <td>&gt; 2 Years</td>\n",
       "      <td>Yes</td>\n",
       "      <td>38294.0</td>\n",
       "      <td>26.0</td>\n",
       "      <td>27</td>\n",
       "      <td>1</td>\n",
       "    </tr>\n",
       "    <tr>\n",
       "      <th>3</th>\n",
       "      <td>4</td>\n",
       "      <td>Male</td>\n",
       "      <td>21</td>\n",
       "      <td>1</td>\n",
       "      <td>11.0</td>\n",
       "      <td>1</td>\n",
       "      <td>&lt; 1 Year</td>\n",
       "      <td>No</td>\n",
       "      <td>28619.0</td>\n",
       "      <td>152.0</td>\n",
       "      <td>203</td>\n",
       "      <td>0</td>\n",
       "    </tr>\n",
       "    <tr>\n",
       "      <th>4</th>\n",
       "      <td>5</td>\n",
       "      <td>Female</td>\n",
       "      <td>29</td>\n",
       "      <td>1</td>\n",
       "      <td>41.0</td>\n",
       "      <td>1</td>\n",
       "      <td>&lt; 1 Year</td>\n",
       "      <td>No</td>\n",
       "      <td>27496.0</td>\n",
       "      <td>152.0</td>\n",
       "      <td>39</td>\n",
       "      <td>0</td>\n",
       "    </tr>\n",
       "  </tbody>\n",
       "</table>\n",
       "</div>"
      ],
      "text/plain": [
       "   id  Gender  Age  Driving_License  Region_Code  Previously_Insured  \\\n",
       "0   1    Male   44                1         28.0                   0   \n",
       "1   2    Male   76                1          3.0                   0   \n",
       "2   3    Male   47                1         28.0                   0   \n",
       "3   4    Male   21                1         11.0                   1   \n",
       "4   5  Female   29                1         41.0                   1   \n",
       "\n",
       "  Vehicle_Age Vehicle_Damage  Annual_Premium  Policy_Sales_Channel  Vintage  \\\n",
       "0   > 2 Years            Yes         40454.0                  26.0      217   \n",
       "1    1-2 Year             No         33536.0                  26.0      183   \n",
       "2   > 2 Years            Yes         38294.0                  26.0       27   \n",
       "3    < 1 Year             No         28619.0                 152.0      203   \n",
       "4    < 1 Year             No         27496.0                 152.0       39   \n",
       "\n",
       "   Response  \n",
       "0         1  \n",
       "1         0  \n",
       "2         1  \n",
       "3         0  \n",
       "4         0  "
      ]
     },
     "execution_count": 5,
     "metadata": {},
     "output_type": "execute_result"
    }
   ],
   "source": [
    "train_df.head()"
   ]
  },
  {
   "cell_type": "code",
   "execution_count": 6,
   "id": "20b029f9",
   "metadata": {},
   "outputs": [
    {
     "data": {
      "text/html": [
       "<div>\n",
       "<style scoped>\n",
       "    .dataframe tbody tr th:only-of-type {\n",
       "        vertical-align: middle;\n",
       "    }\n",
       "\n",
       "    .dataframe tbody tr th {\n",
       "        vertical-align: top;\n",
       "    }\n",
       "\n",
       "    .dataframe thead th {\n",
       "        text-align: right;\n",
       "    }\n",
       "</style>\n",
       "<table border=\"1\" class=\"dataframe\">\n",
       "  <thead>\n",
       "    <tr style=\"text-align: right;\">\n",
       "      <th></th>\n",
       "      <th>count</th>\n",
       "      <th>mean</th>\n",
       "      <th>std</th>\n",
       "      <th>min</th>\n",
       "      <th>25%</th>\n",
       "      <th>50%</th>\n",
       "      <th>75%</th>\n",
       "      <th>max</th>\n",
       "    </tr>\n",
       "  </thead>\n",
       "  <tbody>\n",
       "    <tr>\n",
       "      <th>id</th>\n",
       "      <td>381109.0</td>\n",
       "      <td>190555.000000</td>\n",
       "      <td>110016.836208</td>\n",
       "      <td>1.0</td>\n",
       "      <td>95278.0</td>\n",
       "      <td>190555.0</td>\n",
       "      <td>285832.0</td>\n",
       "      <td>381109.0</td>\n",
       "    </tr>\n",
       "    <tr>\n",
       "      <th>Age</th>\n",
       "      <td>381109.0</td>\n",
       "      <td>38.822584</td>\n",
       "      <td>15.511611</td>\n",
       "      <td>20.0</td>\n",
       "      <td>25.0</td>\n",
       "      <td>36.0</td>\n",
       "      <td>49.0</td>\n",
       "      <td>85.0</td>\n",
       "    </tr>\n",
       "    <tr>\n",
       "      <th>Driving_License</th>\n",
       "      <td>381109.0</td>\n",
       "      <td>0.997869</td>\n",
       "      <td>0.046110</td>\n",
       "      <td>0.0</td>\n",
       "      <td>1.0</td>\n",
       "      <td>1.0</td>\n",
       "      <td>1.0</td>\n",
       "      <td>1.0</td>\n",
       "    </tr>\n",
       "    <tr>\n",
       "      <th>Region_Code</th>\n",
       "      <td>381109.0</td>\n",
       "      <td>26.388807</td>\n",
       "      <td>13.229888</td>\n",
       "      <td>0.0</td>\n",
       "      <td>15.0</td>\n",
       "      <td>28.0</td>\n",
       "      <td>35.0</td>\n",
       "      <td>52.0</td>\n",
       "    </tr>\n",
       "    <tr>\n",
       "      <th>Previously_Insured</th>\n",
       "      <td>381109.0</td>\n",
       "      <td>0.458210</td>\n",
       "      <td>0.498251</td>\n",
       "      <td>0.0</td>\n",
       "      <td>0.0</td>\n",
       "      <td>0.0</td>\n",
       "      <td>1.0</td>\n",
       "      <td>1.0</td>\n",
       "    </tr>\n",
       "    <tr>\n",
       "      <th>Annual_Premium</th>\n",
       "      <td>381109.0</td>\n",
       "      <td>30564.389581</td>\n",
       "      <td>17213.155057</td>\n",
       "      <td>2630.0</td>\n",
       "      <td>24405.0</td>\n",
       "      <td>31669.0</td>\n",
       "      <td>39400.0</td>\n",
       "      <td>540165.0</td>\n",
       "    </tr>\n",
       "    <tr>\n",
       "      <th>Policy_Sales_Channel</th>\n",
       "      <td>381109.0</td>\n",
       "      <td>112.034295</td>\n",
       "      <td>54.203995</td>\n",
       "      <td>1.0</td>\n",
       "      <td>29.0</td>\n",
       "      <td>133.0</td>\n",
       "      <td>152.0</td>\n",
       "      <td>163.0</td>\n",
       "    </tr>\n",
       "    <tr>\n",
       "      <th>Vintage</th>\n",
       "      <td>381109.0</td>\n",
       "      <td>154.347397</td>\n",
       "      <td>83.671304</td>\n",
       "      <td>10.0</td>\n",
       "      <td>82.0</td>\n",
       "      <td>154.0</td>\n",
       "      <td>227.0</td>\n",
       "      <td>299.0</td>\n",
       "    </tr>\n",
       "    <tr>\n",
       "      <th>Response</th>\n",
       "      <td>381109.0</td>\n",
       "      <td>0.122563</td>\n",
       "      <td>0.327936</td>\n",
       "      <td>0.0</td>\n",
       "      <td>0.0</td>\n",
       "      <td>0.0</td>\n",
       "      <td>0.0</td>\n",
       "      <td>1.0</td>\n",
       "    </tr>\n",
       "  </tbody>\n",
       "</table>\n",
       "</div>"
      ],
      "text/plain": [
       "                         count           mean            std     min      25%  \\\n",
       "id                    381109.0  190555.000000  110016.836208     1.0  95278.0   \n",
       "Age                   381109.0      38.822584      15.511611    20.0     25.0   \n",
       "Driving_License       381109.0       0.997869       0.046110     0.0      1.0   \n",
       "Region_Code           381109.0      26.388807      13.229888     0.0     15.0   \n",
       "Previously_Insured    381109.0       0.458210       0.498251     0.0      0.0   \n",
       "Annual_Premium        381109.0   30564.389581   17213.155057  2630.0  24405.0   \n",
       "Policy_Sales_Channel  381109.0     112.034295      54.203995     1.0     29.0   \n",
       "Vintage               381109.0     154.347397      83.671304    10.0     82.0   \n",
       "Response              381109.0       0.122563       0.327936     0.0      0.0   \n",
       "\n",
       "                           50%       75%       max  \n",
       "id                    190555.0  285832.0  381109.0  \n",
       "Age                       36.0      49.0      85.0  \n",
       "Driving_License            1.0       1.0       1.0  \n",
       "Region_Code               28.0      35.0      52.0  \n",
       "Previously_Insured         0.0       1.0       1.0  \n",
       "Annual_Premium         31669.0   39400.0  540165.0  \n",
       "Policy_Sales_Channel     133.0     152.0     163.0  \n",
       "Vintage                  154.0     227.0     299.0  \n",
       "Response                   0.0       0.0       1.0  "
      ]
     },
     "execution_count": 6,
     "metadata": {},
     "output_type": "execute_result"
    }
   ],
   "source": [
    "train_df.describe().T"
   ]
  },
  {
   "cell_type": "code",
   "execution_count": 7,
   "id": "b0f0286b",
   "metadata": {},
   "outputs": [
    {
     "name": "stdout",
     "output_type": "stream",
     "text": [
      "id has 381109 unique values\n",
      "Gender has 2 unique values\n",
      "Age has 66 unique values\n",
      "Driving_License has 2 unique values\n",
      "Region_Code has 53 unique values\n",
      "Previously_Insured has 2 unique values\n",
      "Vehicle_Age has 3 unique values\n",
      "Vehicle_Damage has 2 unique values\n",
      "Annual_Premium has 48838 unique values\n",
      "Policy_Sales_Channel has 155 unique values\n",
      "Vintage has 290 unique values\n",
      "Response has 2 unique values\n"
     ]
    }
   ],
   "source": [
    "for i in train_df.columns:\n",
    "    n = train_df[i].nunique()\n",
    "    if n > 1:\n",
    "        print(f\"{i} has {n} unique values\")\n",
    "    else:\n",
    "        print(f\"{i} has 1 unique value\")"
   ]
  },
  {
   "cell_type": "markdown",
   "id": "ba6f2ffe",
   "metadata": {},
   "source": [
    "This dataset consists of 381109 entries, indexed from 0 to 381108, no missing values.\n",
    "\n",
    "Data columns (total 12 columns):\n",
    "- id: A unique ID for the customer, which serves as a identifier for each customer in the dataset.\n",
    "\n",
    "- Gender: The gender of the customer, typically categorized as 'Male' or 'Female'.\n",
    "\n",
    "- Age: The age of the customer, representing the customer's age in years.\n",
    "\n",
    "- Driving_License: A binary variable indicating whether the customer has a driving license. It is coded as 0 for customers without a driving license and 1 for customers with a driving license.\n",
    "\n",
    "- Region_Code: A unique code representing the region of the customer. Each code corresponds to a specific geographic region.\n",
    "\n",
    "- Previously_Insured: A binary variable indicating whether the customer already has vehicle insurance. It is coded as 1 for customers who already have vehicle insurance and 0 for customers who do not have vehicle insurance.\n",
    "\n",
    "- Vehicle_Age: The age of the customer's vehicle. It is usually categorized into groups, such as '< 1 Year', '1-2 Years', and '> 2 Years'.\n",
    "\n",
    "- Vehicle_Damage: A binary variable indicating whether the customer's vehicle has been damaged in the past. It is coded as 1 if the customer's vehicle has been damaged and 0 if it has not been damaged.\n",
    "\n",
    "- Annual_Premium: The amount that the customer needs to pay as a premium for vehicle insurance coverage in a year.\n",
    "\n",
    "- Policy_Sales_Channel: An anonymized code that represents the channel or method used to reach out to the customer for insurance sales. This may include different agents, mail, phone calls, in-person visits, and other methods.\n",
    "\n",
    "- Vintage: The number of days the customer has been associated with the insurance company. This column measures the length of the customer's relationship with the company.\n",
    "\n",
    "- Response: The target variable you want to predict. It is a binary variable where 1 indicates that the customer is interested in vehicle insurance, and 0 indicates that the customer is not interested."
   ]
  },
  {
   "cell_type": "code",
   "execution_count": 8,
   "id": "1f33fa7c",
   "metadata": {},
   "outputs": [
    {
     "data": {
      "image/png": "[encoded data removed]",
      "text/plain": [
       "<Figure size 1152x432 with 3 Axes>"
      ]
     },
     "metadata": {
      "needs_background": "light"
     },
     "output_type": "display_data"
    }
   ],
   "source": [
    "plt.figure(figsize= (16, 6))\n",
    "plt.subplot(1,3,1)\n",
    "sns.countplot(x = train_df['Gender'])\n",
    "plt.title('Count of Female and Male')\n",
    "plt.subplot(1,3,2)\n",
    "sns.countplot(data = train_df, x = 'Gender', hue= 'Response', palette= 'Blues')\n",
    "plt.title('Count of Female and Male varied by Response')\n",
    "plt.subplot(1,3,3)\n",
    "sns.countplot(data = train_df, x = 'Gender', hue= 'Previously_Insured', palette= 'flare')\n",
    "plt.title('Count of Female and Male varied by Previously_Insured')\n",
    "plt.tight_layout()"
   ]
  },
  {
   "cell_type": "code",
   "execution_count": 80,
   "id": "23e48310",
   "metadata": {},
   "outputs": [],
   "source": [
    "df = pd.read_csv('train.csv')"
   ]
  },
  {
   "cell_type": "markdown",
   "id": "98435b80",
   "metadata": {},
   "source": [
    "- The distribution of Gender is almost equal\n",
    "- It appears that males have a higher response rate (13.8%) compared to females (10.4%). This suggests that the likelihood of a positive response may be higher among males in the given dataset."
   ]
  },
  {
   "cell_type": "code",
   "execution_count": 9,
   "id": "e880555d",
   "metadata": {},
   "outputs": [
    {
     "data": {
      "image/png": "[encoded data removed]",
      "text/plain": [
       "<Figure size 1008x432 with 2 Axes>"
      ]
     },
     "metadata": {
      "needs_background": "light"
     },
     "output_type": "display_data"
    }
   ],
   "source": [
    "plt.figure(figsize= (14, 6))\n",
    "plt.subplot(1,2,1)\n",
    "sns.histplot(train_df['Age'])\n",
    "plt.title('Histplot of Age')\n",
    "plt.subplot(1,2,2)\n",
    "sns.boxplot(x= train_df['Age'])\n",
    "plt.title('Boxplot of Age');"
   ]
  },
  {
   "cell_type": "markdown",
   "id": "a94bed98",
   "metadata": {},
   "source": [
    "From the above charts, we can divide Age into 3 age ranges as young (20-35), middle-aged (36-55), senior (56-85). This information is really helpful for feature engineering."
   ]
  },
  {
   "cell_type": "code",
   "execution_count": 10,
   "id": "5dc95bea",
   "metadata": {},
   "outputs": [
    {
     "data": {
      "image/png": "[encoded data removed]",
      "text/plain": [
       "<Figure size 1008x432 with 2 Axes>"
      ]
     },
     "metadata": {
      "needs_background": "light"
     },
     "output_type": "display_data"
    }
   ],
   "source": [
    "plt.figure(figsize= (14, 6))\n",
    "plt.subplot(1,2,1)\n",
    "sns.countplot(x = train_df['Driving_License'])\n",
    "plt.title(\"Number of people with a driver's license\")\n",
    "plt.subplot(1,2,2)\n",
    "sns.countplot(data= train_df, x = 'Driving_License', hue= 'Response', palette= 'Blues')\n",
    "plt.title(\"Number of people with a driver's license varied by Response\")\n",
    "plt.tight_layout()"
   ]
  },
  {
   "cell_type": "markdown",
   "id": "f55c6075",
   "metadata": {},
   "source": [
    "Most people have a driver's license. "
   ]
  },
  {
   "cell_type": "code",
   "execution_count": 11,
   "id": "28094a2b",
   "metadata": {},
   "outputs": [
    {
     "data": {
      "image/png": "[encoded data removed]",
      "text/plain": [
       "<Figure size 1152x432 with 3 Axes>"
      ]
     },
     "metadata": {
      "needs_background": "light"
     },
     "output_type": "display_data"
    }
   ],
   "source": [
    "plt.figure(figsize= (16, 6))\n",
    "plt.subplot(1,3,1)\n",
    "sns.histplot(x = train_df['Region_Code'], kde= True)\n",
    "plt.title('Distribution of Region Code')\n",
    "plt.subplot(1,3,2)\n",
    "sns.scatterplot(data= train_df, x = 'Region_Code', y= 'Annual_Premium', palette= 'Blues')\n",
    "plt.title('Scatter plot of Region Code and Annual Premium')\n",
    "plt.subplot(1,3,3)\n",
    "sns.boxplot(x= train_df['Region_Code'])\n",
    "plt.title('Boxplot of Region Code')\n",
    "plt.tight_layout()"
   ]
  },
  {
   "cell_type": "markdown",
   "id": "77f2c970",
   "metadata": {},
   "source": [
    "Region 28 has the most customer and the highest paid as premium. "
   ]
  },
  {
   "cell_type": "code",
   "execution_count": 12,
   "id": "98c30362",
   "metadata": {},
   "outputs": [
    {
     "data": {
      "image/png": "[encoded data removed]",
      "text/plain": [
       "<Figure size 1008x432 with 2 Axes>"
      ]
     },
     "metadata": {
      "needs_background": "light"
     },
     "output_type": "display_data"
    }
   ],
   "source": [
    "plt.figure(figsize= (14, 6))\n",
    "plt.subplot(1,2,1)\n",
    "sns.countplot(x= train_df['Vehicle_Age'])\n",
    "plt.title('Distribution of Vehicle Age')\n",
    "plt.subplot(1,2,2)\n",
    "sns.countplot(data= train_df, x= 'Vehicle_Age', hue= 'Response', palette= 'Blues')\n",
    "plt.title('Count of Vehicle Age varied by Response')\n",
    "plt.tight_layout()"
   ]
  },
  {
   "cell_type": "markdown",
   "id": "68f71186",
   "metadata": {},
   "source": [
    "- The number of customers have 1-2 year Vehicle is the highest. \n",
    "- The likelihood of interest in auto insurance is also overwhelmingly high."
   ]
  },
  {
   "cell_type": "code",
   "execution_count": 13,
   "id": "1db22271",
   "metadata": {},
   "outputs": [
    {
     "data": {
      "image/png": "[encoded data removed]",
      "text/plain": [
       "<Figure size 1008x432 with 2 Axes>"
      ]
     },
     "metadata": {
      "needs_background": "light"
     },
     "output_type": "display_data"
    }
   ],
   "source": [
    "plt.figure(figsize= (14, 6))\n",
    "plt.subplot(1,2,1)\n",
    "sns.countplot(x= train_df['Vehicle_Damage'])\n",
    "plt.title('Distribution of Vehicle Damage')\n",
    "plt.subplot(1,2,2)\n",
    "sns.countplot(data= train_df, x= 'Vehicle_Damage', hue= 'Response', palette= 'Blues')\n",
    "plt.title('Count of Vehicle Damage varied by Response')\n",
    "plt.tight_layout()"
   ]
  },
  {
   "cell_type": "markdown",
   "id": "e18f2ebd",
   "metadata": {},
   "source": [
    "Most people whose vehicles have broken down in the past are likely interested in auto insurance."
   ]
  },
  {
   "cell_type": "code",
   "execution_count": 14,
   "id": "1e7f8b1c",
   "metadata": {},
   "outputs": [
    {
     "data": {
      "image/png": "[encoded data removed]",
      "text/plain": [
       "<Figure size 1008x576 with 4 Axes>"
      ]
     },
     "metadata": {
      "needs_background": "light"
     },
     "output_type": "display_data"
    }
   ],
   "source": [
    "plt.figure(figsize= (14, 8))\n",
    "plt.subplot(2,2,1)\n",
    "sns.histplot(data=train_df, x=\"Annual_Premium\", bins=50, kde=True)\n",
    "plt.title('Distribution of Annual Premium')\n",
    "plt.subplot(2,2,2)\n",
    "sns.violinplot(x= train_df['Annual_Premium'])\n",
    "plt.title('Annual Premium Violin plot')\n",
    "plt.subplot(2,2,3)\n",
    "sns.scatterplot(data=train_df, x=\"Age\", y=\"Annual_Premium\")\n",
    "plt.title('Annual Premium vs. Age')\n",
    "plt.subplot(2,2,4)\n",
    "sns.boxplot(data=train_df, x=\"Response\", y=\"Annual_Premium\")\n",
    "plt.title('Annual Premium varied by Response')\n",
    "plt.tight_layout()"
   ]
  },
  {
   "cell_type": "markdown",
   "id": "1e223594",
   "metadata": {},
   "source": [
    "- The annual premimum variable is right skewed\n",
    "- From the boxplot we can observe lot of outliers in the variable. But we won't remove outliers.\n",
    "- The distribution between Annual premium and age is balance. We can use this for later feature engineering. "
   ]
  },
  {
   "cell_type": "code",
   "execution_count": 15,
   "id": "a73a640b",
   "metadata": {},
   "outputs": [
    {
     "data": {
      "image/png": "[encoded data removed]",
      "text/plain": [
       "<Figure size 1008x432 with 2 Axes>"
      ]
     },
     "metadata": {
      "needs_background": "light"
     },
     "output_type": "display_data"
    }
   ],
   "source": [
    "plt.figure(figsize= (14, 6))\n",
    "plt.subplot(1,2,1)\n",
    "sns.histplot(x= train_df['Policy_Sales_Channel'], bins= 50, kde = True)\n",
    "plt.title('Distribution of Policy Sales Channel')\n",
    "plt.subplot(1,2,2)\n",
    "sns.violinplot(data= train_df, x= 'Response', y= 'Policy_Sales_Channel')\n",
    "plt.title('Policy Sales vs. Response')\n",
    "plt.tight_layout()"
   ]
  },
  {
   "cell_type": "markdown",
   "id": "aa0e519d",
   "metadata": {},
   "source": [
    "Different marketing approaches have yielded quite satisfactory results (25, 125)"
   ]
  },
  {
   "cell_type": "code",
   "execution_count": 16,
   "id": "be343a7d",
   "metadata": {},
   "outputs": [
    {
     "data": {
      "image/png": "[encoded data removed]",
      "text/plain": [
       "<Figure size 1008x432 with 2 Axes>"
      ]
     },
     "metadata": {
      "needs_background": "light"
     },
     "output_type": "display_data"
    }
   ],
   "source": [
    "plt.figure(figsize= (14, 6))\n",
    "plt.subplot(1,2,1)\n",
    "sns.histplot(x= train_df['Vintage'], bins= 50, kde = True)\n",
    "plt.title('Distribution of Vintage')\n",
    "plt.subplot(1,2,2)\n",
    "sns.boxplot(data= train_df, x= 'Response', y= 'Vintage')\n",
    "plt.title('Vintage vs. Response')\n",
    "plt.tight_layout()"
   ]
  },
  {
   "cell_type": "markdown",
   "id": "0a027559",
   "metadata": {},
   "source": [
    "The response rate to vintage is very balanced. It mays help alot during modeling."
   ]
  },
  {
   "cell_type": "code",
   "execution_count": 17,
   "id": "35ab6948",
   "metadata": {
    "scrolled": false
   },
   "outputs": [
    {
     "data": {
      "image/png": "[encoded data removed]",
      "text/plain": [
       "<Figure size 864x576 with 2 Axes>"
      ]
     },
     "metadata": {
      "needs_background": "light"
     },
     "output_type": "display_data"
    }
   ],
   "source": [
    "str_list = [] \n",
    "for colname, colvalue in train_df.iteritems():\n",
    "    if type(colvalue[1]) == str:\n",
    "         str_list.append(colname)         \n",
    "num_list = train_df.columns.difference(str_list) \n",
    "house_num = train_df[num_list]\n",
    "f, ax = plt.subplots(figsize=(12, 8))\n",
    "plt.title('Pearson Correlation of features', fontsize = 20)\n",
    "sns.heatmap(house_num.astype(float).corr(),linewidths=0.25,vmax=1.0, square=True, linecolor='k', annot=True);"
   ]
  },
  {
   "cell_type": "markdown",
   "id": "b394c580",
   "metadata": {},
   "source": [
    "- Age and Response: There is a positive correlation of approximately 0.111 between \"Age\" and \"Response,\" which suggests that older customers may be more likely to be interested in vehicle insurance.\n",
    "\n",
    "- Previously_Insured and Response: There is a negative correlation of approximately -0.341 between \"Previously_Insured\" and \"Response,\" indicating that customers who already have vehicle insurance (Previously_Insured=1) are less likely to be interested in additional insurance.\n",
    "\n",
    "- Policy_Sales_Channel and Response: There is a negative correlation of approximately -0.139 between \"Policy_Sales_Channel\" and \"Response,\" which suggests that the choice of policy sales channel may influence customer interest in insurance.\n",
    "\n",
    "- Age and Policy_Sales_Channel: There is a negative correlation of approximately -0.578 between \"Age\" and \"Policy_Sales_Channel.\" This may indicate that different sales channels are used for different age groups of customers.\n",
    "\n",
    "- Age and Annual_Premium: There is a positive correlation of approximately 0.068 between \"Age\" and \"Annual_Premium.\" This suggests that older customers may pay higher annual premiums.\n",
    "\n",
    "- Annual_Premium and Response: There is a positive but weak correlation of approximately 0.023 between \"Annual_Premium\" and \"Response.\" This suggests that higher annual premiums may have a slight positive influence on customer interest."
   ]
  },
  {
   "cell_type": "markdown",
   "id": "526c6915",
   "metadata": {},
   "source": [
    "<div id= \"model-engineering\" style= \"font-size: 22px; font-weight: bold\">Modeling and Feature Engineering</div>"
   ]
  },
  {
   "cell_type": "markdown",
   "id": "395a50d1",
   "metadata": {},
   "source": [
    "<a href= \"#table-of-contents\" style= \"text-decoration: none; font-size: 14px\">Back to Top</a>"
   ]
  },
  {
   "cell_type": "code",
   "execution_count": 18,
   "id": "69475d90",
   "metadata": {},
   "outputs": [
    {
     "data": {
      "text/html": [
       "<div>\n",
       "<style scoped>\n",
       "    .dataframe tbody tr th:only-of-type {\n",
       "        vertical-align: middle;\n",
       "    }\n",
       "\n",
       "    .dataframe tbody tr th {\n",
       "        vertical-align: top;\n",
       "    }\n",
       "\n",
       "    .dataframe thead th {\n",
       "        text-align: right;\n",
       "    }\n",
       "</style>\n",
       "<table border=\"1\" class=\"dataframe\">\n",
       "  <thead>\n",
       "    <tr style=\"text-align: right;\">\n",
       "      <th></th>\n",
       "      <th>Age</th>\n",
       "      <th>Driving_License</th>\n",
       "      <th>Region_Code</th>\n",
       "      <th>Previously_Insured</th>\n",
       "      <th>Annual_Premium</th>\n",
       "      <th>Policy_Sales_Channel</th>\n",
       "      <th>Vintage</th>\n",
       "      <th>Response</th>\n",
       "      <th>Gender_Male</th>\n",
       "      <th>Vehicle_Age_&lt; 1 Year</th>\n",
       "      <th>Vehicle_Age_&gt; 2 Years</th>\n",
       "      <th>Vehicle_Damage_Yes</th>\n",
       "    </tr>\n",
       "  </thead>\n",
       "  <tbody>\n",
       "    <tr>\n",
       "      <th>0</th>\n",
       "      <td>44</td>\n",
       "      <td>1</td>\n",
       "      <td>28.0</td>\n",
       "      <td>0</td>\n",
       "      <td>40454.0</td>\n",
       "      <td>26.0</td>\n",
       "      <td>217</td>\n",
       "      <td>1</td>\n",
       "      <td>1</td>\n",
       "      <td>0</td>\n",
       "      <td>1</td>\n",
       "      <td>1</td>\n",
       "    </tr>\n",
       "    <tr>\n",
       "      <th>1</th>\n",
       "      <td>76</td>\n",
       "      <td>1</td>\n",
       "      <td>3.0</td>\n",
       "      <td>0</td>\n",
       "      <td>33536.0</td>\n",
       "      <td>26.0</td>\n",
       "      <td>183</td>\n",
       "      <td>0</td>\n",
       "      <td>1</td>\n",
       "      <td>0</td>\n",
       "      <td>0</td>\n",
       "      <td>0</td>\n",
       "    </tr>\n",
       "    <tr>\n",
       "      <th>2</th>\n",
       "      <td>47</td>\n",
       "      <td>1</td>\n",
       "      <td>28.0</td>\n",
       "      <td>0</td>\n",
       "      <td>38294.0</td>\n",
       "      <td>26.0</td>\n",
       "      <td>27</td>\n",
       "      <td>1</td>\n",
       "      <td>1</td>\n",
       "      <td>0</td>\n",
       "      <td>1</td>\n",
       "      <td>1</td>\n",
       "    </tr>\n",
       "    <tr>\n",
       "      <th>3</th>\n",
       "      <td>21</td>\n",
       "      <td>1</td>\n",
       "      <td>11.0</td>\n",
       "      <td>1</td>\n",
       "      <td>28619.0</td>\n",
       "      <td>152.0</td>\n",
       "      <td>203</td>\n",
       "      <td>0</td>\n",
       "      <td>1</td>\n",
       "      <td>1</td>\n",
       "      <td>0</td>\n",
       "      <td>0</td>\n",
       "    </tr>\n",
       "    <tr>\n",
       "      <th>4</th>\n",
       "      <td>29</td>\n",
       "      <td>1</td>\n",
       "      <td>41.0</td>\n",
       "      <td>1</td>\n",
       "      <td>27496.0</td>\n",
       "      <td>152.0</td>\n",
       "      <td>39</td>\n",
       "      <td>0</td>\n",
       "      <td>0</td>\n",
       "      <td>1</td>\n",
       "      <td>0</td>\n",
       "      <td>0</td>\n",
       "    </tr>\n",
       "  </tbody>\n",
       "</table>\n",
       "</div>"
      ],
      "text/plain": [
       "   Age  Driving_License  Region_Code  Previously_Insured  Annual_Premium  \\\n",
       "0   44                1         28.0                   0         40454.0   \n",
       "1   76                1          3.0                   0         33536.0   \n",
       "2   47                1         28.0                   0         38294.0   \n",
       "3   21                1         11.0                   1         28619.0   \n",
       "4   29                1         41.0                   1         27496.0   \n",
       "\n",
       "   Policy_Sales_Channel  Vintage  Response  Gender_Male  Vehicle_Age_< 1 Year  \\\n",
       "0                  26.0      217         1            1                     0   \n",
       "1                  26.0      183         0            1                     0   \n",
       "2                  26.0       27         1            1                     0   \n",
       "3                 152.0      203         0            1                     1   \n",
       "4                 152.0       39         0            0                     1   \n",
       "\n",
       "   Vehicle_Age_> 2 Years  Vehicle_Damage_Yes  \n",
       "0                      1                   1  \n",
       "1                      0                   0  \n",
       "2                      1                   1  \n",
       "3                      0                   0  \n",
       "4                      0                   0  "
      ]
     },
     "execution_count": 18,
     "metadata": {},
     "output_type": "execute_result"
    }
   ],
   "source": [
    "cate_cols = ['Gender', 'Vehicle_Age', 'Vehicle_Damage']\n",
    "train_df = pd.get_dummies(train_df, columns= cate_cols, drop_first = True)\n",
    "train_df = train_df.drop('id', axis= 1)\n",
    "train_df.head()"
   ]
  },
  {
   "cell_type": "code",
   "execution_count": 19,
   "id": "10c0a87e",
   "metadata": {},
   "outputs": [],
   "source": [
    "X1 = train_df.drop('Response', axis=1)\n",
    "y1 = train_df['Response']"
   ]
  },
  {
   "cell_type": "code",
   "execution_count": 20,
   "id": "8e3e8901",
   "metadata": {},
   "outputs": [],
   "source": [
    "model = RandomForestClassifier(n_estimators=10, random_state=42)\n",
    "def modeling(X, y, model):\n",
    "    X_train, X_test, y_train, y_test = train_test_split(X, y, test_size=0.25, random_state=42)\n",
    "    rf_classifier = model\n",
    "    rf_classifier.fit(X_train, y_train)\n",
    "    y_pred = rf_classifier.predict(X_test)\n",
    "    y_score = rf_classifier.predict_proba(X_test)[:, 1]    \n",
    "    roc_auc = roc_auc_score(y_test, y_score)\n",
    "    return roc_auc"
   ]
  },
  {
   "cell_type": "code",
   "execution_count": 21,
   "id": "2e5f2f80",
   "metadata": {},
   "outputs": [
    {
     "data": {
      "text/plain": [
       "0.7952563123883657"
      ]
     },
     "execution_count": 21,
     "metadata": {},
     "output_type": "execute_result"
    }
   ],
   "source": [
    "modeling(X1, y1, model)"
   ]
  },
  {
   "cell_type": "code",
   "execution_count": 22,
   "id": "5a1be152",
   "metadata": {},
   "outputs": [
    {
     "data": {
      "text/html": [
       "<div>\n",
       "<style scoped>\n",
       "    .dataframe tbody tr th:only-of-type {\n",
       "        vertical-align: middle;\n",
       "    }\n",
       "\n",
       "    .dataframe tbody tr th {\n",
       "        vertical-align: top;\n",
       "    }\n",
       "\n",
       "    .dataframe thead th {\n",
       "        text-align: right;\n",
       "    }\n",
       "</style>\n",
       "<table border=\"1\" class=\"dataframe\">\n",
       "  <thead>\n",
       "    <tr style=\"text-align: right;\">\n",
       "      <th></th>\n",
       "      <th>Age</th>\n",
       "      <th>Driving_License</th>\n",
       "      <th>Region_Code</th>\n",
       "      <th>Previously_Insured</th>\n",
       "      <th>Annual_Premium</th>\n",
       "      <th>Policy_Sales_Channel</th>\n",
       "      <th>Vintage</th>\n",
       "      <th>Response</th>\n",
       "      <th>Gender_Male</th>\n",
       "      <th>Vehicle_Age_&lt; 1 Year</th>\n",
       "      <th>Vehicle_Age_&gt; 2 Years</th>\n",
       "      <th>Vehicle_Damage_Yes</th>\n",
       "    </tr>\n",
       "  </thead>\n",
       "  <tbody>\n",
       "    <tr>\n",
       "      <th>0</th>\n",
       "      <td>0.333777</td>\n",
       "      <td>1</td>\n",
       "      <td>28.0</td>\n",
       "      <td>0</td>\n",
       "      <td>0.070366</td>\n",
       "      <td>26.0</td>\n",
       "      <td>0.748795</td>\n",
       "      <td>1</td>\n",
       "      <td>1</td>\n",
       "      <td>0</td>\n",
       "      <td>1</td>\n",
       "      <td>1</td>\n",
       "    </tr>\n",
       "    <tr>\n",
       "      <th>1</th>\n",
       "      <td>2.396751</td>\n",
       "      <td>1</td>\n",
       "      <td>3.0</td>\n",
       "      <td>0</td>\n",
       "      <td>0.057496</td>\n",
       "      <td>26.0</td>\n",
       "      <td>0.342443</td>\n",
       "      <td>0</td>\n",
       "      <td>1</td>\n",
       "      <td>0</td>\n",
       "      <td>0</td>\n",
       "      <td>0</td>\n",
       "    </tr>\n",
       "    <tr>\n",
       "      <th>2</th>\n",
       "      <td>0.527181</td>\n",
       "      <td>1</td>\n",
       "      <td>28.0</td>\n",
       "      <td>0</td>\n",
       "      <td>0.066347</td>\n",
       "      <td>26.0</td>\n",
       "      <td>-1.521998</td>\n",
       "      <td>1</td>\n",
       "      <td>1</td>\n",
       "      <td>0</td>\n",
       "      <td>1</td>\n",
       "      <td>1</td>\n",
       "    </tr>\n",
       "    <tr>\n",
       "      <th>3</th>\n",
       "      <td>-1.148985</td>\n",
       "      <td>1</td>\n",
       "      <td>11.0</td>\n",
       "      <td>1</td>\n",
       "      <td>0.048348</td>\n",
       "      <td>152.0</td>\n",
       "      <td>0.581474</td>\n",
       "      <td>0</td>\n",
       "      <td>1</td>\n",
       "      <td>1</td>\n",
       "      <td>0</td>\n",
       "      <td>0</td>\n",
       "    </tr>\n",
       "    <tr>\n",
       "      <th>4</th>\n",
       "      <td>-0.633242</td>\n",
       "      <td>1</td>\n",
       "      <td>41.0</td>\n",
       "      <td>1</td>\n",
       "      <td>0.046259</td>\n",
       "      <td>152.0</td>\n",
       "      <td>-1.378580</td>\n",
       "      <td>0</td>\n",
       "      <td>0</td>\n",
       "      <td>1</td>\n",
       "      <td>0</td>\n",
       "      <td>0</td>\n",
       "    </tr>\n",
       "  </tbody>\n",
       "</table>\n",
       "</div>"
      ],
      "text/plain": [
       "        Age  Driving_License  Region_Code  Previously_Insured  Annual_Premium  \\\n",
       "0  0.333777                1         28.0                   0        0.070366   \n",
       "1  2.396751                1          3.0                   0        0.057496   \n",
       "2  0.527181                1         28.0                   0        0.066347   \n",
       "3 -1.148985                1         11.0                   1        0.048348   \n",
       "4 -0.633242                1         41.0                   1        0.046259   \n",
       "\n",
       "   Policy_Sales_Channel   Vintage  Response  Gender_Male  \\\n",
       "0                  26.0  0.748795         1            1   \n",
       "1                  26.0  0.342443         0            1   \n",
       "2                  26.0 -1.521998         1            1   \n",
       "3                 152.0  0.581474         0            1   \n",
       "4                 152.0 -1.378580         0            0   \n",
       "\n",
       "   Vehicle_Age_< 1 Year  Vehicle_Age_> 2 Years  Vehicle_Damage_Yes  \n",
       "0                     0                      1                   1  \n",
       "1                     0                      0                   0  \n",
       "2                     0                      1                   1  \n",
       "3                     1                      0                   0  \n",
       "4                     1                      0                   0  "
      ]
     },
     "execution_count": 22,
     "metadata": {},
     "output_type": "execute_result"
    }
   ],
   "source": [
    "train_1 = train_df.copy()\n",
    "ss = StandardScaler()\n",
    "train_1[['Age', 'Vintage']] = ss.fit_transform(train_1[['Age', 'Vintage']])\n",
    "mm = MinMaxScaler()\n",
    "train_1[['Annual_Premium']] = mm.fit_transform(train_1[['Annual_Premium']])\n",
    "train_1.head()"
   ]
  },
  {
   "cell_type": "code",
   "execution_count": 23,
   "id": "8b95f5b4",
   "metadata": {},
   "outputs": [
    {
     "data": {
      "text/plain": [
       "0.7951273560790271"
      ]
     },
     "execution_count": 23,
     "metadata": {},
     "output_type": "execute_result"
    }
   ],
   "source": [
    "X2 = train_1.drop('Response', axis=1)\n",
    "y2 = train_1['Response']\n",
    "model1 = RandomForestClassifier(n_estimators=10, random_state=42)\n",
    "modeling(X2, y2, model1)"
   ]
  },
  {
   "cell_type": "code",
   "execution_count": 24,
   "id": "77837137",
   "metadata": {},
   "outputs": [
    {
     "data": {
      "text/html": [
       "<div>\n",
       "<style scoped>\n",
       "    .dataframe tbody tr th:only-of-type {\n",
       "        vertical-align: middle;\n",
       "    }\n",
       "\n",
       "    .dataframe tbody tr th {\n",
       "        vertical-align: top;\n",
       "    }\n",
       "\n",
       "    .dataframe thead th {\n",
       "        text-align: right;\n",
       "    }\n",
       "</style>\n",
       "<table border=\"1\" class=\"dataframe\">\n",
       "  <thead>\n",
       "    <tr style=\"text-align: right;\">\n",
       "      <th></th>\n",
       "      <th>Age</th>\n",
       "      <th>Driving_License</th>\n",
       "      <th>Region_Code</th>\n",
       "      <th>Previously_Insured</th>\n",
       "      <th>Annual_Premium</th>\n",
       "      <th>Policy_Sales_Channel</th>\n",
       "      <th>Vintage</th>\n",
       "      <th>Response</th>\n",
       "      <th>Gender_Male</th>\n",
       "      <th>Vehicle_Age_&lt; 1 Year</th>\n",
       "      <th>Vehicle_Age_&gt; 2 Years</th>\n",
       "      <th>Vehicle_Damage_Yes</th>\n",
       "      <th>Age_Group_young</th>\n",
       "      <th>Age_Group_middle-aged</th>\n",
       "      <th>Age_Group_senior</th>\n",
       "      <th>Annual_Premium_Group_Low Premium</th>\n",
       "      <th>Annual_Premium_Group_Medium Premium</th>\n",
       "      <th>Annual_Premium_Group_High Premium</th>\n",
       "    </tr>\n",
       "  </thead>\n",
       "  <tbody>\n",
       "    <tr>\n",
       "      <th>0</th>\n",
       "      <td>44</td>\n",
       "      <td>1</td>\n",
       "      <td>28.0</td>\n",
       "      <td>0</td>\n",
       "      <td>40454.0</td>\n",
       "      <td>26.0</td>\n",
       "      <td>217</td>\n",
       "      <td>1</td>\n",
       "      <td>1</td>\n",
       "      <td>0</td>\n",
       "      <td>1</td>\n",
       "      <td>1</td>\n",
       "      <td>0</td>\n",
       "      <td>1</td>\n",
       "      <td>0</td>\n",
       "      <td>0</td>\n",
       "      <td>0</td>\n",
       "      <td>1</td>\n",
       "    </tr>\n",
       "    <tr>\n",
       "      <th>1</th>\n",
       "      <td>76</td>\n",
       "      <td>1</td>\n",
       "      <td>3.0</td>\n",
       "      <td>0</td>\n",
       "      <td>33536.0</td>\n",
       "      <td>26.0</td>\n",
       "      <td>183</td>\n",
       "      <td>0</td>\n",
       "      <td>1</td>\n",
       "      <td>0</td>\n",
       "      <td>0</td>\n",
       "      <td>0</td>\n",
       "      <td>0</td>\n",
       "      <td>0</td>\n",
       "      <td>1</td>\n",
       "      <td>0</td>\n",
       "      <td>1</td>\n",
       "      <td>0</td>\n",
       "    </tr>\n",
       "    <tr>\n",
       "      <th>2</th>\n",
       "      <td>47</td>\n",
       "      <td>1</td>\n",
       "      <td>28.0</td>\n",
       "      <td>0</td>\n",
       "      <td>38294.0</td>\n",
       "      <td>26.0</td>\n",
       "      <td>27</td>\n",
       "      <td>1</td>\n",
       "      <td>1</td>\n",
       "      <td>0</td>\n",
       "      <td>1</td>\n",
       "      <td>1</td>\n",
       "      <td>0</td>\n",
       "      <td>1</td>\n",
       "      <td>0</td>\n",
       "      <td>0</td>\n",
       "      <td>1</td>\n",
       "      <td>0</td>\n",
       "    </tr>\n",
       "    <tr>\n",
       "      <th>3</th>\n",
       "      <td>21</td>\n",
       "      <td>1</td>\n",
       "      <td>11.0</td>\n",
       "      <td>1</td>\n",
       "      <td>28619.0</td>\n",
       "      <td>152.0</td>\n",
       "      <td>203</td>\n",
       "      <td>0</td>\n",
       "      <td>1</td>\n",
       "      <td>1</td>\n",
       "      <td>0</td>\n",
       "      <td>0</td>\n",
       "      <td>1</td>\n",
       "      <td>0</td>\n",
       "      <td>0</td>\n",
       "      <td>0</td>\n",
       "      <td>1</td>\n",
       "      <td>0</td>\n",
       "    </tr>\n",
       "    <tr>\n",
       "      <th>4</th>\n",
       "      <td>29</td>\n",
       "      <td>1</td>\n",
       "      <td>41.0</td>\n",
       "      <td>1</td>\n",
       "      <td>27496.0</td>\n",
       "      <td>152.0</td>\n",
       "      <td>39</td>\n",
       "      <td>0</td>\n",
       "      <td>0</td>\n",
       "      <td>1</td>\n",
       "      <td>0</td>\n",
       "      <td>0</td>\n",
       "      <td>1</td>\n",
       "      <td>0</td>\n",
       "      <td>0</td>\n",
       "      <td>0</td>\n",
       "      <td>1</td>\n",
       "      <td>0</td>\n",
       "    </tr>\n",
       "  </tbody>\n",
       "</table>\n",
       "</div>"
      ],
      "text/plain": [
       "   Age  Driving_License  Region_Code  Previously_Insured  Annual_Premium  \\\n",
       "0   44                1         28.0                   0         40454.0   \n",
       "1   76                1          3.0                   0         33536.0   \n",
       "2   47                1         28.0                   0         38294.0   \n",
       "3   21                1         11.0                   1         28619.0   \n",
       "4   29                1         41.0                   1         27496.0   \n",
       "\n",
       "   Policy_Sales_Channel  Vintage  Response  Gender_Male  Vehicle_Age_< 1 Year  \\\n",
       "0                  26.0      217         1            1                     0   \n",
       "1                  26.0      183         0            1                     0   \n",
       "2                  26.0       27         1            1                     0   \n",
       "3                 152.0      203         0            1                     1   \n",
       "4                 152.0       39         0            0                     1   \n",
       "\n",
       "   Vehicle_Age_> 2 Years  Vehicle_Damage_Yes  Age_Group_young  \\\n",
       "0                      1                   1                0   \n",
       "1                      0                   0                0   \n",
       "2                      1                   1                0   \n",
       "3                      0                   0                1   \n",
       "4                      0                   0                1   \n",
       "\n",
       "   Age_Group_middle-aged  Age_Group_senior  Annual_Premium_Group_Low Premium  \\\n",
       "0                      1                 0                                 0   \n",
       "1                      0                 1                                 0   \n",
       "2                      1                 0                                 0   \n",
       "3                      0                 0                                 0   \n",
       "4                      0                 0                                 0   \n",
       "\n",
       "   Annual_Premium_Group_Medium Premium  Annual_Premium_Group_High Premium  \n",
       "0                                    0                                  1  \n",
       "1                                    1                                  0  \n",
       "2                                    1                                  0  \n",
       "3                                    1                                  0  \n",
       "4                                    1                                  0  "
      ]
     },
     "execution_count": 24,
     "metadata": {},
     "output_type": "execute_result"
    }
   ],
   "source": [
    "train_2 = train_df.copy()\n",
    "bins_age = [20, 35, 55, 85]\n",
    "labels_age = [\"young\", \"middle-aged\", \"senior\"]\n",
    "train_2['Age_Group'] = pd.cut(train_2['Age'], bins=bins_age, labels=labels_age, right=False)\n",
    "\n",
    "bins_annual = [2630, 24405, 39400, 540165]\n",
    "labels_annual = ['Low Premium', 'Medium Premium', 'High Premium']\n",
    "train_2['Annual_Premium_Group'] = pd.cut(train_2['Annual_Premium'], bins=bins_annual, labels=labels_annual, right= False)\n",
    "\n",
    "train_2 = pd.get_dummies(train_2, columns=['Age_Group', 'Annual_Premium_Group'])\n",
    "train_2.head()"
   ]
  },
  {
   "cell_type": "code",
   "execution_count": 25,
   "id": "5511c080",
   "metadata": {},
   "outputs": [
    {
     "data": {
      "text/plain": [
       "0.7919602816989554"
      ]
     },
     "execution_count": 25,
     "metadata": {},
     "output_type": "execute_result"
    }
   ],
   "source": [
    "X3 = train_2.drop('Response', axis=1)\n",
    "y3 = train_2['Response']\n",
    "model2 = RandomForestClassifier(n_estimators=10, random_state=42)\n",
    "modeling(X3, y3, model2)"
   ]
  },
  {
   "cell_type": "code",
   "execution_count": 26,
   "id": "5b699ad1",
   "metadata": {},
   "outputs": [
    {
     "data": {
      "text/plain": [
       "0.8363339036277904"
      ]
     },
     "execution_count": 26,
     "metadata": {},
     "output_type": "execute_result"
    }
   ],
   "source": [
    "model2_1 = RandomForestClassifier(n_estimators=100, random_state=42)\n",
    "modeling(X3, y3, model2_1)"
   ]
  },
  {
   "cell_type": "code",
   "execution_count": 27,
   "id": "dd4aca87",
   "metadata": {},
   "outputs": [
    {
     "data": {
      "text/html": [
       "<div>\n",
       "<style scoped>\n",
       "    .dataframe tbody tr th:only-of-type {\n",
       "        vertical-align: middle;\n",
       "    }\n",
       "\n",
       "    .dataframe tbody tr th {\n",
       "        vertical-align: top;\n",
       "    }\n",
       "\n",
       "    .dataframe thead th {\n",
       "        text-align: right;\n",
       "    }\n",
       "</style>\n",
       "<table border=\"1\" class=\"dataframe\">\n",
       "  <thead>\n",
       "    <tr style=\"text-align: right;\">\n",
       "      <th></th>\n",
       "      <th>Age</th>\n",
       "      <th>Driving_License</th>\n",
       "      <th>Region_Code</th>\n",
       "      <th>Previously_Insured</th>\n",
       "      <th>Annual_Premium</th>\n",
       "      <th>Policy_Sales_Channel</th>\n",
       "      <th>Vintage</th>\n",
       "      <th>Response</th>\n",
       "      <th>Gender_Male</th>\n",
       "      <th>Vehicle_Age_&lt; 1 Year</th>\n",
       "      <th>Vehicle_Age_&gt; 2 Years</th>\n",
       "      <th>Vehicle_Damage_Yes</th>\n",
       "      <th>Age_Annual_Pre</th>\n",
       "    </tr>\n",
       "  </thead>\n",
       "  <tbody>\n",
       "    <tr>\n",
       "      <th>0</th>\n",
       "      <td>44</td>\n",
       "      <td>1</td>\n",
       "      <td>28.0</td>\n",
       "      <td>0</td>\n",
       "      <td>40454.0</td>\n",
       "      <td>26.0</td>\n",
       "      <td>217</td>\n",
       "      <td>1</td>\n",
       "      <td>1</td>\n",
       "      <td>0</td>\n",
       "      <td>1</td>\n",
       "      <td>1</td>\n",
       "      <td>1779976.0</td>\n",
       "    </tr>\n",
       "    <tr>\n",
       "      <th>1</th>\n",
       "      <td>76</td>\n",
       "      <td>1</td>\n",
       "      <td>3.0</td>\n",
       "      <td>0</td>\n",
       "      <td>33536.0</td>\n",
       "      <td>26.0</td>\n",
       "      <td>183</td>\n",
       "      <td>0</td>\n",
       "      <td>1</td>\n",
       "      <td>0</td>\n",
       "      <td>0</td>\n",
       "      <td>0</td>\n",
       "      <td>2548736.0</td>\n",
       "    </tr>\n",
       "    <tr>\n",
       "      <th>2</th>\n",
       "      <td>47</td>\n",
       "      <td>1</td>\n",
       "      <td>28.0</td>\n",
       "      <td>0</td>\n",
       "      <td>38294.0</td>\n",
       "      <td>26.0</td>\n",
       "      <td>27</td>\n",
       "      <td>1</td>\n",
       "      <td>1</td>\n",
       "      <td>0</td>\n",
       "      <td>1</td>\n",
       "      <td>1</td>\n",
       "      <td>1799818.0</td>\n",
       "    </tr>\n",
       "    <tr>\n",
       "      <th>3</th>\n",
       "      <td>21</td>\n",
       "      <td>1</td>\n",
       "      <td>11.0</td>\n",
       "      <td>1</td>\n",
       "      <td>28619.0</td>\n",
       "      <td>152.0</td>\n",
       "      <td>203</td>\n",
       "      <td>0</td>\n",
       "      <td>1</td>\n",
       "      <td>1</td>\n",
       "      <td>0</td>\n",
       "      <td>0</td>\n",
       "      <td>600999.0</td>\n",
       "    </tr>\n",
       "    <tr>\n",
       "      <th>4</th>\n",
       "      <td>29</td>\n",
       "      <td>1</td>\n",
       "      <td>41.0</td>\n",
       "      <td>1</td>\n",
       "      <td>27496.0</td>\n",
       "      <td>152.0</td>\n",
       "      <td>39</td>\n",
       "      <td>0</td>\n",
       "      <td>0</td>\n",
       "      <td>1</td>\n",
       "      <td>0</td>\n",
       "      <td>0</td>\n",
       "      <td>797384.0</td>\n",
       "    </tr>\n",
       "  </tbody>\n",
       "</table>\n",
       "</div>"
      ],
      "text/plain": [
       "   Age  Driving_License  Region_Code  Previously_Insured  Annual_Premium  \\\n",
       "0   44                1         28.0                   0         40454.0   \n",
       "1   76                1          3.0                   0         33536.0   \n",
       "2   47                1         28.0                   0         38294.0   \n",
       "3   21                1         11.0                   1         28619.0   \n",
       "4   29                1         41.0                   1         27496.0   \n",
       "\n",
       "   Policy_Sales_Channel  Vintage  Response  Gender_Male  Vehicle_Age_< 1 Year  \\\n",
       "0                  26.0      217         1            1                     0   \n",
       "1                  26.0      183         0            1                     0   \n",
       "2                  26.0       27         1            1                     0   \n",
       "3                 152.0      203         0            1                     1   \n",
       "4                 152.0       39         0            0                     1   \n",
       "\n",
       "   Vehicle_Age_> 2 Years  Vehicle_Damage_Yes  Age_Annual_Pre  \n",
       "0                      1                   1       1779976.0  \n",
       "1                      0                   0       2548736.0  \n",
       "2                      1                   1       1799818.0  \n",
       "3                      0                   0        600999.0  \n",
       "4                      0                   0        797384.0  "
      ]
     },
     "execution_count": 27,
     "metadata": {},
     "output_type": "execute_result"
    }
   ],
   "source": [
    "train_3 = train_df.copy()\n",
    "train_3['Age_Annual_Pre'] = train_3['Age']*train_3['Annual_Premium']\n",
    "train_3.head()"
   ]
  },
  {
   "cell_type": "code",
   "execution_count": 28,
   "id": "2391f77a",
   "metadata": {},
   "outputs": [
    {
     "data": {
      "text/plain": [
       "0.7952429789592933"
      ]
     },
     "execution_count": 28,
     "metadata": {},
     "output_type": "execute_result"
    }
   ],
   "source": [
    "X4 = train_3.drop('Response', axis=1)\n",
    "y4 = train_3['Response']\n",
    "model3 = RandomForestClassifier(n_estimators=10, random_state=42)\n",
    "modeling(X4, y4, model3)"
   ]
  },
  {
   "cell_type": "code",
   "execution_count": 29,
   "id": "384013f8",
   "metadata": {},
   "outputs": [
    {
     "data": {
      "text/html": [
       "<div>\n",
       "<style scoped>\n",
       "    .dataframe tbody tr th:only-of-type {\n",
       "        vertical-align: middle;\n",
       "    }\n",
       "\n",
       "    .dataframe tbody tr th {\n",
       "        vertical-align: top;\n",
       "    }\n",
       "\n",
       "    .dataframe thead th {\n",
       "        text-align: right;\n",
       "    }\n",
       "</style>\n",
       "<table border=\"1\" class=\"dataframe\">\n",
       "  <thead>\n",
       "    <tr style=\"text-align: right;\">\n",
       "      <th></th>\n",
       "      <th>Age</th>\n",
       "      <th>Driving_License</th>\n",
       "      <th>Region_Code</th>\n",
       "      <th>Previously_Insured</th>\n",
       "      <th>Annual_Premium</th>\n",
       "      <th>Policy_Sales_Channel</th>\n",
       "      <th>Vintage</th>\n",
       "      <th>Response</th>\n",
       "      <th>Gender_Male</th>\n",
       "      <th>Vehicle_Age_&lt; 1 Year</th>\n",
       "      <th>Vehicle_Age_&gt; 2 Years</th>\n",
       "      <th>Vehicle_Damage_Yes</th>\n",
       "      <th>Age_Group_young</th>\n",
       "      <th>Age_Group_middle-aged</th>\n",
       "      <th>Age_Group_senior</th>\n",
       "      <th>Annual_Premium_Group_Low Premium</th>\n",
       "      <th>Annual_Premium_Group_Medium Premium</th>\n",
       "      <th>Annual_Premium_Group_High Premium</th>\n",
       "      <th>Age_Annual_Pre</th>\n",
       "    </tr>\n",
       "  </thead>\n",
       "  <tbody>\n",
       "    <tr>\n",
       "      <th>0</th>\n",
       "      <td>44</td>\n",
       "      <td>1</td>\n",
       "      <td>28.0</td>\n",
       "      <td>0</td>\n",
       "      <td>40454.0</td>\n",
       "      <td>26.0</td>\n",
       "      <td>217</td>\n",
       "      <td>1</td>\n",
       "      <td>1</td>\n",
       "      <td>0</td>\n",
       "      <td>1</td>\n",
       "      <td>1</td>\n",
       "      <td>0</td>\n",
       "      <td>1</td>\n",
       "      <td>0</td>\n",
       "      <td>0</td>\n",
       "      <td>0</td>\n",
       "      <td>1</td>\n",
       "      <td>1779976.0</td>\n",
       "    </tr>\n",
       "    <tr>\n",
       "      <th>1</th>\n",
       "      <td>76</td>\n",
       "      <td>1</td>\n",
       "      <td>3.0</td>\n",
       "      <td>0</td>\n",
       "      <td>33536.0</td>\n",
       "      <td>26.0</td>\n",
       "      <td>183</td>\n",
       "      <td>0</td>\n",
       "      <td>1</td>\n",
       "      <td>0</td>\n",
       "      <td>0</td>\n",
       "      <td>0</td>\n",
       "      <td>0</td>\n",
       "      <td>0</td>\n",
       "      <td>1</td>\n",
       "      <td>0</td>\n",
       "      <td>1</td>\n",
       "      <td>0</td>\n",
       "      <td>2548736.0</td>\n",
       "    </tr>\n",
       "    <tr>\n",
       "      <th>2</th>\n",
       "      <td>47</td>\n",
       "      <td>1</td>\n",
       "      <td>28.0</td>\n",
       "      <td>0</td>\n",
       "      <td>38294.0</td>\n",
       "      <td>26.0</td>\n",
       "      <td>27</td>\n",
       "      <td>1</td>\n",
       "      <td>1</td>\n",
       "      <td>0</td>\n",
       "      <td>1</td>\n",
       "      <td>1</td>\n",
       "      <td>0</td>\n",
       "      <td>1</td>\n",
       "      <td>0</td>\n",
       "      <td>0</td>\n",
       "      <td>1</td>\n",
       "      <td>0</td>\n",
       "      <td>1799818.0</td>\n",
       "    </tr>\n",
       "    <tr>\n",
       "      <th>3</th>\n",
       "      <td>21</td>\n",
       "      <td>1</td>\n",
       "      <td>11.0</td>\n",
       "      <td>1</td>\n",
       "      <td>28619.0</td>\n",
       "      <td>152.0</td>\n",
       "      <td>203</td>\n",
       "      <td>0</td>\n",
       "      <td>1</td>\n",
       "      <td>1</td>\n",
       "      <td>0</td>\n",
       "      <td>0</td>\n",
       "      <td>1</td>\n",
       "      <td>0</td>\n",
       "      <td>0</td>\n",
       "      <td>0</td>\n",
       "      <td>1</td>\n",
       "      <td>0</td>\n",
       "      <td>600999.0</td>\n",
       "    </tr>\n",
       "    <tr>\n",
       "      <th>4</th>\n",
       "      <td>29</td>\n",
       "      <td>1</td>\n",
       "      <td>41.0</td>\n",
       "      <td>1</td>\n",
       "      <td>27496.0</td>\n",
       "      <td>152.0</td>\n",
       "      <td>39</td>\n",
       "      <td>0</td>\n",
       "      <td>0</td>\n",
       "      <td>1</td>\n",
       "      <td>0</td>\n",
       "      <td>0</td>\n",
       "      <td>1</td>\n",
       "      <td>0</td>\n",
       "      <td>0</td>\n",
       "      <td>0</td>\n",
       "      <td>1</td>\n",
       "      <td>0</td>\n",
       "      <td>797384.0</td>\n",
       "    </tr>\n",
       "  </tbody>\n",
       "</table>\n",
       "</div>"
      ],
      "text/plain": [
       "   Age  Driving_License  Region_Code  Previously_Insured  Annual_Premium  \\\n",
       "0   44                1         28.0                   0         40454.0   \n",
       "1   76                1          3.0                   0         33536.0   \n",
       "2   47                1         28.0                   0         38294.0   \n",
       "3   21                1         11.0                   1         28619.0   \n",
       "4   29                1         41.0                   1         27496.0   \n",
       "\n",
       "   Policy_Sales_Channel  Vintage  Response  Gender_Male  Vehicle_Age_< 1 Year  \\\n",
       "0                  26.0      217         1            1                     0   \n",
       "1                  26.0      183         0            1                     0   \n",
       "2                  26.0       27         1            1                     0   \n",
       "3                 152.0      203         0            1                     1   \n",
       "4                 152.0       39         0            0                     1   \n",
       "\n",
       "   Vehicle_Age_> 2 Years  Vehicle_Damage_Yes  Age_Group_young  \\\n",
       "0                      1                   1                0   \n",
       "1                      0                   0                0   \n",
       "2                      1                   1                0   \n",
       "3                      0                   0                1   \n",
       "4                      0                   0                1   \n",
       "\n",
       "   Age_Group_middle-aged  Age_Group_senior  Annual_Premium_Group_Low Premium  \\\n",
       "0                      1                 0                                 0   \n",
       "1                      0                 1                                 0   \n",
       "2                      1                 0                                 0   \n",
       "3                      0                 0                                 0   \n",
       "4                      0                 0                                 0   \n",
       "\n",
       "   Annual_Premium_Group_Medium Premium  Annual_Premium_Group_High Premium  \\\n",
       "0                                    0                                  1   \n",
       "1                                    1                                  0   \n",
       "2                                    1                                  0   \n",
       "3                                    1                                  0   \n",
       "4                                    1                                  0   \n",
       "\n",
       "   Age_Annual_Pre  \n",
       "0       1779976.0  \n",
       "1       2548736.0  \n",
       "2       1799818.0  \n",
       "3        600999.0  \n",
       "4        797384.0  "
      ]
     },
     "execution_count": 29,
     "metadata": {},
     "output_type": "execute_result"
    }
   ],
   "source": [
    "train_3_1 = train_2.copy()\n",
    "train_3_1['Age_Annual_Pre'] = train_3['Age']*train_3['Annual_Premium']\n",
    "train_3_1.head()"
   ]
  },
  {
   "cell_type": "code",
   "execution_count": 30,
   "id": "1b2c1ffb",
   "metadata": {},
   "outputs": [
    {
     "data": {
      "text/plain": [
       "0.8353321590966069"
      ]
     },
     "execution_count": 30,
     "metadata": {},
     "output_type": "execute_result"
    }
   ],
   "source": [
    "X5 = train_3_1.drop('Response', axis=1)\n",
    "y5 = train_3_1['Response']\n",
    "model3_1 = RandomForestClassifier(n_estimators=100, random_state=42)\n",
    "modeling(X5, y5, model3_1)"
   ]
  },
  {
   "cell_type": "code",
   "execution_count": 31,
   "id": "5272b2f9",
   "metadata": {},
   "outputs": [
    {
     "data": {
      "text/html": [
       "<div>\n",
       "<style scoped>\n",
       "    .dataframe tbody tr th:only-of-type {\n",
       "        vertical-align: middle;\n",
       "    }\n",
       "\n",
       "    .dataframe tbody tr th {\n",
       "        vertical-align: top;\n",
       "    }\n",
       "\n",
       "    .dataframe thead th {\n",
       "        text-align: right;\n",
       "    }\n",
       "</style>\n",
       "<table border=\"1\" class=\"dataframe\">\n",
       "  <thead>\n",
       "    <tr style=\"text-align: right;\">\n",
       "      <th></th>\n",
       "      <th>Age</th>\n",
       "      <th>Driving_License</th>\n",
       "      <th>Region_Code</th>\n",
       "      <th>Previously_Insured</th>\n",
       "      <th>Annual_Premium</th>\n",
       "      <th>Policy_Sales_Channel</th>\n",
       "      <th>Vintage</th>\n",
       "      <th>Response</th>\n",
       "      <th>Gender_Male</th>\n",
       "      <th>Vehicle_Age_&lt; 1 Year</th>\n",
       "      <th>Vehicle_Age_&gt; 2 Years</th>\n",
       "      <th>Vehicle_Damage_Yes</th>\n",
       "      <th>Age_Group_young</th>\n",
       "      <th>Age_Group_middle-aged</th>\n",
       "      <th>Age_Group_senior</th>\n",
       "      <th>Annual_Premium_Group_Low Premium</th>\n",
       "      <th>Annual_Premium_Group_Medium Premium</th>\n",
       "      <th>Annual_Premium_Group_High Premium</th>\n",
       "      <th>Age_Annual_div</th>\n",
       "    </tr>\n",
       "  </thead>\n",
       "  <tbody>\n",
       "    <tr>\n",
       "      <th>0</th>\n",
       "      <td>44</td>\n",
       "      <td>1</td>\n",
       "      <td>28.0</td>\n",
       "      <td>0</td>\n",
       "      <td>40454.0</td>\n",
       "      <td>26.0</td>\n",
       "      <td>217</td>\n",
       "      <td>1</td>\n",
       "      <td>1</td>\n",
       "      <td>0</td>\n",
       "      <td>1</td>\n",
       "      <td>1</td>\n",
       "      <td>0</td>\n",
       "      <td>1</td>\n",
       "      <td>0</td>\n",
       "      <td>0</td>\n",
       "      <td>0</td>\n",
       "      <td>1</td>\n",
       "      <td>919.409091</td>\n",
       "    </tr>\n",
       "    <tr>\n",
       "      <th>1</th>\n",
       "      <td>76</td>\n",
       "      <td>1</td>\n",
       "      <td>3.0</td>\n",
       "      <td>0</td>\n",
       "      <td>33536.0</td>\n",
       "      <td>26.0</td>\n",
       "      <td>183</td>\n",
       "      <td>0</td>\n",
       "      <td>1</td>\n",
       "      <td>0</td>\n",
       "      <td>0</td>\n",
       "      <td>0</td>\n",
       "      <td>0</td>\n",
       "      <td>0</td>\n",
       "      <td>1</td>\n",
       "      <td>0</td>\n",
       "      <td>1</td>\n",
       "      <td>0</td>\n",
       "      <td>441.263158</td>\n",
       "    </tr>\n",
       "    <tr>\n",
       "      <th>2</th>\n",
       "      <td>47</td>\n",
       "      <td>1</td>\n",
       "      <td>28.0</td>\n",
       "      <td>0</td>\n",
       "      <td>38294.0</td>\n",
       "      <td>26.0</td>\n",
       "      <td>27</td>\n",
       "      <td>1</td>\n",
       "      <td>1</td>\n",
       "      <td>0</td>\n",
       "      <td>1</td>\n",
       "      <td>1</td>\n",
       "      <td>0</td>\n",
       "      <td>1</td>\n",
       "      <td>0</td>\n",
       "      <td>0</td>\n",
       "      <td>1</td>\n",
       "      <td>0</td>\n",
       "      <td>814.765957</td>\n",
       "    </tr>\n",
       "    <tr>\n",
       "      <th>3</th>\n",
       "      <td>21</td>\n",
       "      <td>1</td>\n",
       "      <td>11.0</td>\n",
       "      <td>1</td>\n",
       "      <td>28619.0</td>\n",
       "      <td>152.0</td>\n",
       "      <td>203</td>\n",
       "      <td>0</td>\n",
       "      <td>1</td>\n",
       "      <td>1</td>\n",
       "      <td>0</td>\n",
       "      <td>0</td>\n",
       "      <td>1</td>\n",
       "      <td>0</td>\n",
       "      <td>0</td>\n",
       "      <td>0</td>\n",
       "      <td>1</td>\n",
       "      <td>0</td>\n",
       "      <td>1362.809524</td>\n",
       "    </tr>\n",
       "    <tr>\n",
       "      <th>4</th>\n",
       "      <td>29</td>\n",
       "      <td>1</td>\n",
       "      <td>41.0</td>\n",
       "      <td>1</td>\n",
       "      <td>27496.0</td>\n",
       "      <td>152.0</td>\n",
       "      <td>39</td>\n",
       "      <td>0</td>\n",
       "      <td>0</td>\n",
       "      <td>1</td>\n",
       "      <td>0</td>\n",
       "      <td>0</td>\n",
       "      <td>1</td>\n",
       "      <td>0</td>\n",
       "      <td>0</td>\n",
       "      <td>0</td>\n",
       "      <td>1</td>\n",
       "      <td>0</td>\n",
       "      <td>948.137931</td>\n",
       "    </tr>\n",
       "  </tbody>\n",
       "</table>\n",
       "</div>"
      ],
      "text/plain": [
       "   Age  Driving_License  Region_Code  Previously_Insured  Annual_Premium  \\\n",
       "0   44                1         28.0                   0         40454.0   \n",
       "1   76                1          3.0                   0         33536.0   \n",
       "2   47                1         28.0                   0         38294.0   \n",
       "3   21                1         11.0                   1         28619.0   \n",
       "4   29                1         41.0                   1         27496.0   \n",
       "\n",
       "   Policy_Sales_Channel  Vintage  Response  Gender_Male  Vehicle_Age_< 1 Year  \\\n",
       "0                  26.0      217         1            1                     0   \n",
       "1                  26.0      183         0            1                     0   \n",
       "2                  26.0       27         1            1                     0   \n",
       "3                 152.0      203         0            1                     1   \n",
       "4                 152.0       39         0            0                     1   \n",
       "\n",
       "   Vehicle_Age_> 2 Years  Vehicle_Damage_Yes  Age_Group_young  \\\n",
       "0                      1                   1                0   \n",
       "1                      0                   0                0   \n",
       "2                      1                   1                0   \n",
       "3                      0                   0                1   \n",
       "4                      0                   0                1   \n",
       "\n",
       "   Age_Group_middle-aged  Age_Group_senior  Annual_Premium_Group_Low Premium  \\\n",
       "0                      1                 0                                 0   \n",
       "1                      0                 1                                 0   \n",
       "2                      1                 0                                 0   \n",
       "3                      0                 0                                 0   \n",
       "4                      0                 0                                 0   \n",
       "\n",
       "   Annual_Premium_Group_Medium Premium  Annual_Premium_Group_High Premium  \\\n",
       "0                                    0                                  1   \n",
       "1                                    1                                  0   \n",
       "2                                    1                                  0   \n",
       "3                                    1                                  0   \n",
       "4                                    1                                  0   \n",
       "\n",
       "   Age_Annual_div  \n",
       "0      919.409091  \n",
       "1      441.263158  \n",
       "2      814.765957  \n",
       "3     1362.809524  \n",
       "4      948.137931  "
      ]
     },
     "execution_count": 31,
     "metadata": {},
     "output_type": "execute_result"
    }
   ],
   "source": [
    "train_4 = train_2.copy()\n",
    "train_4['Age_Annual_div'] = train_4['Annual_Premium'] / train_4['Age']\n",
    "train_4.head()"
   ]
  },
  {
   "cell_type": "code",
   "execution_count": 32,
   "id": "82a095dd",
   "metadata": {},
   "outputs": [
    {
     "data": {
      "text/plain": [
       "0.8352733059584735"
      ]
     },
     "execution_count": 32,
     "metadata": {},
     "output_type": "execute_result"
    }
   ],
   "source": [
    "X6 = train_4.drop('Response', axis=1)\n",
    "y6 = train_4['Response']\n",
    "model4 = RandomForestClassifier(n_estimators=100, random_state=42)\n",
    "modeling(X6, y6, model4)"
   ]
  },
  {
   "cell_type": "code",
   "execution_count": 33,
   "id": "918c6938",
   "metadata": {},
   "outputs": [
    {
     "data": {
      "text/html": [
       "<div>\n",
       "<style scoped>\n",
       "    .dataframe tbody tr th:only-of-type {\n",
       "        vertical-align: middle;\n",
       "    }\n",
       "\n",
       "    .dataframe tbody tr th {\n",
       "        vertical-align: top;\n",
       "    }\n",
       "\n",
       "    .dataframe thead th {\n",
       "        text-align: right;\n",
       "    }\n",
       "</style>\n",
       "<table border=\"1\" class=\"dataframe\">\n",
       "  <thead>\n",
       "    <tr style=\"text-align: right;\">\n",
       "      <th></th>\n",
       "      <th>Age</th>\n",
       "      <th>Driving_License</th>\n",
       "      <th>Region_Code</th>\n",
       "      <th>Previously_Insured</th>\n",
       "      <th>Annual_Premium</th>\n",
       "      <th>Policy_Sales_Channel</th>\n",
       "      <th>Vintage</th>\n",
       "      <th>Response</th>\n",
       "      <th>Gender_Male</th>\n",
       "      <th>Vehicle_Age_&lt; 1 Year</th>\n",
       "      <th>Vehicle_Age_&gt; 2 Years</th>\n",
       "      <th>Vehicle_Damage_Yes</th>\n",
       "      <th>Age_Group_young</th>\n",
       "      <th>Age_Group_middle-aged</th>\n",
       "      <th>Age_Group_senior</th>\n",
       "      <th>Annual_Premium_Group_Low Premium</th>\n",
       "      <th>Annual_Premium_Group_Medium Premium</th>\n",
       "      <th>Annual_Premium_Group_High Premium</th>\n",
       "      <th>Region_Code_Encoded</th>\n",
       "    </tr>\n",
       "  </thead>\n",
       "  <tbody>\n",
       "    <tr>\n",
       "      <th>0</th>\n",
       "      <td>44</td>\n",
       "      <td>1</td>\n",
       "      <td>28.0</td>\n",
       "      <td>0</td>\n",
       "      <td>40454.0</td>\n",
       "      <td>26.0</td>\n",
       "      <td>217</td>\n",
       "      <td>1</td>\n",
       "      <td>1</td>\n",
       "      <td>0</td>\n",
       "      <td>1</td>\n",
       "      <td>1</td>\n",
       "      <td>0</td>\n",
       "      <td>1</td>\n",
       "      <td>0</td>\n",
       "      <td>0</td>\n",
       "      <td>0</td>\n",
       "      <td>1</td>\n",
       "      <td>0.187163</td>\n",
       "    </tr>\n",
       "    <tr>\n",
       "      <th>1</th>\n",
       "      <td>76</td>\n",
       "      <td>1</td>\n",
       "      <td>3.0</td>\n",
       "      <td>0</td>\n",
       "      <td>33536.0</td>\n",
       "      <td>26.0</td>\n",
       "      <td>183</td>\n",
       "      <td>0</td>\n",
       "      <td>1</td>\n",
       "      <td>0</td>\n",
       "      <td>0</td>\n",
       "      <td>0</td>\n",
       "      <td>0</td>\n",
       "      <td>0</td>\n",
       "      <td>1</td>\n",
       "      <td>0</td>\n",
       "      <td>1</td>\n",
       "      <td>0</td>\n",
       "      <td>0.127662</td>\n",
       "    </tr>\n",
       "    <tr>\n",
       "      <th>2</th>\n",
       "      <td>47</td>\n",
       "      <td>1</td>\n",
       "      <td>28.0</td>\n",
       "      <td>0</td>\n",
       "      <td>38294.0</td>\n",
       "      <td>26.0</td>\n",
       "      <td>27</td>\n",
       "      <td>1</td>\n",
       "      <td>1</td>\n",
       "      <td>0</td>\n",
       "      <td>1</td>\n",
       "      <td>1</td>\n",
       "      <td>0</td>\n",
       "      <td>1</td>\n",
       "      <td>0</td>\n",
       "      <td>0</td>\n",
       "      <td>1</td>\n",
       "      <td>0</td>\n",
       "      <td>0.187163</td>\n",
       "    </tr>\n",
       "    <tr>\n",
       "      <th>3</th>\n",
       "      <td>21</td>\n",
       "      <td>1</td>\n",
       "      <td>11.0</td>\n",
       "      <td>1</td>\n",
       "      <td>28619.0</td>\n",
       "      <td>152.0</td>\n",
       "      <td>203</td>\n",
       "      <td>0</td>\n",
       "      <td>1</td>\n",
       "      <td>1</td>\n",
       "      <td>0</td>\n",
       "      <td>0</td>\n",
       "      <td>1</td>\n",
       "      <td>0</td>\n",
       "      <td>0</td>\n",
       "      <td>0</td>\n",
       "      <td>1</td>\n",
       "      <td>0</td>\n",
       "      <td>0.112760</td>\n",
       "    </tr>\n",
       "    <tr>\n",
       "      <th>4</th>\n",
       "      <td>29</td>\n",
       "      <td>1</td>\n",
       "      <td>41.0</td>\n",
       "      <td>1</td>\n",
       "      <td>27496.0</td>\n",
       "      <td>152.0</td>\n",
       "      <td>39</td>\n",
       "      <td>0</td>\n",
       "      <td>0</td>\n",
       "      <td>1</td>\n",
       "      <td>0</td>\n",
       "      <td>0</td>\n",
       "      <td>1</td>\n",
       "      <td>0</td>\n",
       "      <td>0</td>\n",
       "      <td>0</td>\n",
       "      <td>1</td>\n",
       "      <td>0</td>\n",
       "      <td>0.121776</td>\n",
       "    </tr>\n",
       "  </tbody>\n",
       "</table>\n",
       "</div>"
      ],
      "text/plain": [
       "   Age  Driving_License  Region_Code  Previously_Insured  Annual_Premium  \\\n",
       "0   44                1         28.0                   0         40454.0   \n",
       "1   76                1          3.0                   0         33536.0   \n",
       "2   47                1         28.0                   0         38294.0   \n",
       "3   21                1         11.0                   1         28619.0   \n",
       "4   29                1         41.0                   1         27496.0   \n",
       "\n",
       "   Policy_Sales_Channel  Vintage  Response  Gender_Male  Vehicle_Age_< 1 Year  \\\n",
       "0                  26.0      217         1            1                     0   \n",
       "1                  26.0      183         0            1                     0   \n",
       "2                  26.0       27         1            1                     0   \n",
       "3                 152.0      203         0            1                     1   \n",
       "4                 152.0       39         0            0                     1   \n",
       "\n",
       "   Vehicle_Age_> 2 Years  Vehicle_Damage_Yes  Age_Group_young  \\\n",
       "0                      1                   1                0   \n",
       "1                      0                   0                0   \n",
       "2                      1                   1                0   \n",
       "3                      0                   0                1   \n",
       "4                      0                   0                1   \n",
       "\n",
       "   Age_Group_middle-aged  Age_Group_senior  Annual_Premium_Group_Low Premium  \\\n",
       "0                      1                 0                                 0   \n",
       "1                      0                 1                                 0   \n",
       "2                      1                 0                                 0   \n",
       "3                      0                 0                                 0   \n",
       "4                      0                 0                                 0   \n",
       "\n",
       "   Annual_Premium_Group_Medium Premium  Annual_Premium_Group_High Premium  \\\n",
       "0                                    0                                  1   \n",
       "1                                    1                                  0   \n",
       "2                                    1                                  0   \n",
       "3                                    1                                  0   \n",
       "4                                    1                                  0   \n",
       "\n",
       "   Region_Code_Encoded  \n",
       "0             0.187163  \n",
       "1             0.127662  \n",
       "2             0.187163  \n",
       "3             0.112760  \n",
       "4             0.121776  "
      ]
     },
     "execution_count": 33,
     "metadata": {},
     "output_type": "execute_result"
    }
   ],
   "source": [
    "train_5 = train_2.copy()\n",
    "mean_response_by_region = train_df.groupby('Region_Code')['Response'].mean()\n",
    "train_5['Region_Code_Encoded'] = train_5['Region_Code'].map(mean_response_by_region)\n",
    "train_5.head()"
   ]
  },
  {
   "cell_type": "code",
   "execution_count": 34,
   "id": "9ec327b4",
   "metadata": {},
   "outputs": [
    {
     "data": {
      "text/plain": [
       "0.8358361948774015"
      ]
     },
     "execution_count": 34,
     "metadata": {},
     "output_type": "execute_result"
    }
   ],
   "source": [
    "X7 = train_5.drop('Response', axis=1)\n",
    "y7 = train_5['Response']\n",
    "model5 = RandomForestClassifier(n_estimators=100, random_state=42)\n",
    "modeling(X7, y7, model5)"
   ]
  },
  {
   "cell_type": "code",
   "execution_count": 47,
   "id": "40db5e6a",
   "metadata": {},
   "outputs": [
    {
     "data": {
      "text/html": [
       "<div>\n",
       "<style scoped>\n",
       "    .dataframe tbody tr th:only-of-type {\n",
       "        vertical-align: middle;\n",
       "    }\n",
       "\n",
       "    .dataframe tbody tr th {\n",
       "        vertical-align: top;\n",
       "    }\n",
       "\n",
       "    .dataframe thead th {\n",
       "        text-align: right;\n",
       "    }\n",
       "</style>\n",
       "<table border=\"1\" class=\"dataframe\">\n",
       "  <thead>\n",
       "    <tr style=\"text-align: right;\">\n",
       "      <th></th>\n",
       "      <th>Age</th>\n",
       "      <th>Driving_License</th>\n",
       "      <th>Region_Code</th>\n",
       "      <th>Previously_Insured</th>\n",
       "      <th>Annual_Premium</th>\n",
       "      <th>Policy_Sales_Channel</th>\n",
       "      <th>Vintage</th>\n",
       "      <th>Response</th>\n",
       "      <th>Gender_Male</th>\n",
       "      <th>Vehicle_Age_&lt; 1 Year</th>\n",
       "      <th>Vehicle_Age_&gt; 2 Years</th>\n",
       "      <th>Vehicle_Damage_Yes</th>\n",
       "      <th>Region_Code_Encoded</th>\n",
       "      <th>Average_Premium_By_Region</th>\n",
       "    </tr>\n",
       "  </thead>\n",
       "  <tbody>\n",
       "    <tr>\n",
       "      <th>0</th>\n",
       "      <td>44</td>\n",
       "      <td>1</td>\n",
       "      <td>28.0</td>\n",
       "      <td>0</td>\n",
       "      <td>40454.0</td>\n",
       "      <td>26.0</td>\n",
       "      <td>217</td>\n",
       "      <td>1</td>\n",
       "      <td>1</td>\n",
       "      <td>0</td>\n",
       "      <td>1</td>\n",
       "      <td>1</td>\n",
       "      <td>0.187163</td>\n",
       "      <td>38668.865245</td>\n",
       "    </tr>\n",
       "    <tr>\n",
       "      <th>1</th>\n",
       "      <td>76</td>\n",
       "      <td>1</td>\n",
       "      <td>3.0</td>\n",
       "      <td>0</td>\n",
       "      <td>33536.0</td>\n",
       "      <td>26.0</td>\n",
       "      <td>183</td>\n",
       "      <td>0</td>\n",
       "      <td>1</td>\n",
       "      <td>0</td>\n",
       "      <td>0</td>\n",
       "      <td>0</td>\n",
       "      <td>0.127662</td>\n",
       "      <td>24524.480813</td>\n",
       "    </tr>\n",
       "    <tr>\n",
       "      <th>2</th>\n",
       "      <td>47</td>\n",
       "      <td>1</td>\n",
       "      <td>28.0</td>\n",
       "      <td>0</td>\n",
       "      <td>38294.0</td>\n",
       "      <td>26.0</td>\n",
       "      <td>27</td>\n",
       "      <td>1</td>\n",
       "      <td>1</td>\n",
       "      <td>0</td>\n",
       "      <td>1</td>\n",
       "      <td>1</td>\n",
       "      <td>0.187163</td>\n",
       "      <td>38668.865245</td>\n",
       "    </tr>\n",
       "    <tr>\n",
       "      <th>3</th>\n",
       "      <td>21</td>\n",
       "      <td>1</td>\n",
       "      <td>11.0</td>\n",
       "      <td>1</td>\n",
       "      <td>28619.0</td>\n",
       "      <td>152.0</td>\n",
       "      <td>203</td>\n",
       "      <td>0</td>\n",
       "      <td>1</td>\n",
       "      <td>1</td>\n",
       "      <td>0</td>\n",
       "      <td>0</td>\n",
       "      <td>0.112760</td>\n",
       "      <td>27607.283146</td>\n",
       "    </tr>\n",
       "    <tr>\n",
       "      <th>4</th>\n",
       "      <td>29</td>\n",
       "      <td>1</td>\n",
       "      <td>41.0</td>\n",
       "      <td>1</td>\n",
       "      <td>27496.0</td>\n",
       "      <td>152.0</td>\n",
       "      <td>39</td>\n",
       "      <td>0</td>\n",
       "      <td>0</td>\n",
       "      <td>1</td>\n",
       "      <td>0</td>\n",
       "      <td>0</td>\n",
       "      <td>0.121776</td>\n",
       "      <td>30949.127471</td>\n",
       "    </tr>\n",
       "  </tbody>\n",
       "</table>\n",
       "</div>"
      ],
      "text/plain": [
       "   Age  Driving_License  Region_Code  Previously_Insured  Annual_Premium  \\\n",
       "0   44                1         28.0                   0         40454.0   \n",
       "1   76                1          3.0                   0         33536.0   \n",
       "2   47                1         28.0                   0         38294.0   \n",
       "3   21                1         11.0                   1         28619.0   \n",
       "4   29                1         41.0                   1         27496.0   \n",
       "\n",
       "   Policy_Sales_Channel  Vintage  Response  Gender_Male  Vehicle_Age_< 1 Year  \\\n",
       "0                  26.0      217         1            1                     0   \n",
       "1                  26.0      183         0            1                     0   \n",
       "2                  26.0       27         1            1                     0   \n",
       "3                 152.0      203         0            1                     1   \n",
       "4                 152.0       39         0            0                     1   \n",
       "\n",
       "   Vehicle_Age_> 2 Years  Vehicle_Damage_Yes  Region_Code_Encoded  \\\n",
       "0                      1                   1             0.187163   \n",
       "1                      0                   0             0.127662   \n",
       "2                      1                   1             0.187163   \n",
       "3                      0                   0             0.112760   \n",
       "4                      0                   0             0.121776   \n",
       "\n",
       "   Average_Premium_By_Region  \n",
       "0               38668.865245  \n",
       "1               24524.480813  \n",
       "2               38668.865245  \n",
       "3               27607.283146  \n",
       "4               30949.127471  "
      ]
     },
     "execution_count": 47,
     "metadata": {},
     "output_type": "execute_result"
    }
   ],
   "source": [
    "train_6 = train_df.copy()\n",
    "\n",
    "mean_response_by_region = train_6.groupby('Region_Code')['Response'].mean()\n",
    "train_6['Region_Code_Encoded'] = train_6['Region_Code'].map(mean_response_by_region)\n",
    "\n",
    "average_premium_by_region = train_6.groupby('Region_Code')['Annual_Premium'].mean()\n",
    "train_6['Average_Premium_By_Region'] = train_6['Region_Code'].map(average_premium_by_region)\n",
    "train_6.head()"
   ]
  },
  {
   "cell_type": "code",
   "execution_count": 48,
   "id": "1ba9cd95",
   "metadata": {},
   "outputs": [
    {
     "data": {
      "text/plain": [
       "0.8360917854306285"
      ]
     },
     "execution_count": 48,
     "metadata": {},
     "output_type": "execute_result"
    }
   ],
   "source": [
    "X8 = train_6.drop('Response', axis=1)\n",
    "y8 = train_6['Response']\n",
    "model6 = RandomForestClassifier(n_estimators=100, random_state=42)\n",
    "modeling(X8, y8, model6)"
   ]
  },
  {
   "cell_type": "code",
   "execution_count": 52,
   "id": "e12ff4ab",
   "metadata": {},
   "outputs": [],
   "source": [
    "def feature_selection(X, model):\n",
    "    feature_importances = model.feature_importances_\n",
    "    feature_names = X.columns\n",
    "    sorted_idx = feature_importances.argsort()[::-1]\n",
    "    print(\"Feature ranking:\")\n",
    "    for i in range(X.shape[1]):\n",
    "        print(f\"{i+1}. Feature {feature_names[sorted_idx[i]]}: {feature_importances[sorted_idx[i]]}\")\n",
    "    plt.figure(figsize=(10, 6))\n",
    "    plt.title(\"Feature Importance\")\n",
    "    plt.bar(range(X.shape[1]), feature_importances[sorted_idx], align=\"center\")\n",
    "    plt.xticks(range(X.shape[1]), [feature_names[i] for i in sorted_idx], rotation=90)\n",
    "    plt.show()"
   ]
  },
  {
   "cell_type": "code",
   "execution_count": 54,
   "id": "aa86b50a",
   "metadata": {},
   "outputs": [
    {
     "name": "stdout",
     "output_type": "stream",
     "text": [
      "Feature ranking:\n",
      "1. Feature Vintage: 0.279712170422303\n",
      "2. Feature Annual_Premium: 0.250130965121702\n",
      "3. Feature Age: 0.1622063682662501\n",
      "4. Feature Vehicle_Damage_Yes: 0.07203526529851326\n",
      "5. Feature Policy_Sales_Channel: 0.07078402842464813\n",
      "6. Feature Previously_Insured: 0.049631767701676786\n",
      "7. Feature Region_Code_Encoded: 0.027934426322305497\n",
      "8. Feature Average_Premium_By_Region: 0.02603094428238153\n",
      "9. Feature Region_Code: 0.024539550985828787\n",
      "10. Feature Vehicle_Age_< 1 Year: 0.016142135718947098\n",
      "11. Feature Gender_Male: 0.01416309318613449\n",
      "12. Feature Vehicle_Age_> 2 Years: 0.006090323591453028\n",
      "13. Feature Driving_License: 0.0005989606778563938\n"
     ]
    },
    {
     "data": {
      "image/png": "[encoded data removed]",
      "text/plain": [
       "<Figure size 720x432 with 1 Axes>"
      ]
     },
     "metadata": {
      "needs_background": "light"
     },
     "output_type": "display_data"
    }
   ],
   "source": [
    "feature_selection(X8, model6)"
   ]
  },
  {
   "cell_type": "code",
   "execution_count": 57,
   "id": "9a5cbd4e",
   "metadata": {},
   "outputs": [
    {
     "data": {
      "text/html": [
       "<div>\n",
       "<style scoped>\n",
       "    .dataframe tbody tr th:only-of-type {\n",
       "        vertical-align: middle;\n",
       "    }\n",
       "\n",
       "    .dataframe tbody tr th {\n",
       "        vertical-align: top;\n",
       "    }\n",
       "\n",
       "    .dataframe thead th {\n",
       "        text-align: right;\n",
       "    }\n",
       "</style>\n",
       "<table border=\"1\" class=\"dataframe\">\n",
       "  <thead>\n",
       "    <tr style=\"text-align: right;\">\n",
       "      <th></th>\n",
       "      <th>Age</th>\n",
       "      <th>Driving_License</th>\n",
       "      <th>Region_Code</th>\n",
       "      <th>Previously_Insured</th>\n",
       "      <th>Annual_Premium</th>\n",
       "      <th>Policy_Sales_Channel</th>\n",
       "      <th>Vintage</th>\n",
       "      <th>Response</th>\n",
       "      <th>Gender_Male</th>\n",
       "      <th>Vehicle_Age_&lt; 1 Year</th>\n",
       "      <th>Vehicle_Age_&gt; 2 Years</th>\n",
       "      <th>Vehicle_Damage_Yes</th>\n",
       "      <th>Region_Code_Encoded</th>\n",
       "      <th>Average_Premium_By_Region</th>\n",
       "      <th>Age_Annual_Pre</th>\n",
       "      <th>Age_Annual_div</th>\n",
       "    </tr>\n",
       "  </thead>\n",
       "  <tbody>\n",
       "    <tr>\n",
       "      <th>0</th>\n",
       "      <td>44</td>\n",
       "      <td>1</td>\n",
       "      <td>28.0</td>\n",
       "      <td>0</td>\n",
       "      <td>40454.0</td>\n",
       "      <td>26.0</td>\n",
       "      <td>217</td>\n",
       "      <td>1</td>\n",
       "      <td>1</td>\n",
       "      <td>0</td>\n",
       "      <td>1</td>\n",
       "      <td>1</td>\n",
       "      <td>0.187163</td>\n",
       "      <td>38668.865245</td>\n",
       "      <td>1779976.0</td>\n",
       "      <td>919.409091</td>\n",
       "    </tr>\n",
       "    <tr>\n",
       "      <th>1</th>\n",
       "      <td>76</td>\n",
       "      <td>1</td>\n",
       "      <td>3.0</td>\n",
       "      <td>0</td>\n",
       "      <td>33536.0</td>\n",
       "      <td>26.0</td>\n",
       "      <td>183</td>\n",
       "      <td>0</td>\n",
       "      <td>1</td>\n",
       "      <td>0</td>\n",
       "      <td>0</td>\n",
       "      <td>0</td>\n",
       "      <td>0.127662</td>\n",
       "      <td>24524.480813</td>\n",
       "      <td>2548736.0</td>\n",
       "      <td>441.263158</td>\n",
       "    </tr>\n",
       "    <tr>\n",
       "      <th>2</th>\n",
       "      <td>47</td>\n",
       "      <td>1</td>\n",
       "      <td>28.0</td>\n",
       "      <td>0</td>\n",
       "      <td>38294.0</td>\n",
       "      <td>26.0</td>\n",
       "      <td>27</td>\n",
       "      <td>1</td>\n",
       "      <td>1</td>\n",
       "      <td>0</td>\n",
       "      <td>1</td>\n",
       "      <td>1</td>\n",
       "      <td>0.187163</td>\n",
       "      <td>38668.865245</td>\n",
       "      <td>1799818.0</td>\n",
       "      <td>814.765957</td>\n",
       "    </tr>\n",
       "    <tr>\n",
       "      <th>3</th>\n",
       "      <td>21</td>\n",
       "      <td>1</td>\n",
       "      <td>11.0</td>\n",
       "      <td>1</td>\n",
       "      <td>28619.0</td>\n",
       "      <td>152.0</td>\n",
       "      <td>203</td>\n",
       "      <td>0</td>\n",
       "      <td>1</td>\n",
       "      <td>1</td>\n",
       "      <td>0</td>\n",
       "      <td>0</td>\n",
       "      <td>0.112760</td>\n",
       "      <td>27607.283146</td>\n",
       "      <td>600999.0</td>\n",
       "      <td>1362.809524</td>\n",
       "    </tr>\n",
       "    <tr>\n",
       "      <th>4</th>\n",
       "      <td>29</td>\n",
       "      <td>1</td>\n",
       "      <td>41.0</td>\n",
       "      <td>1</td>\n",
       "      <td>27496.0</td>\n",
       "      <td>152.0</td>\n",
       "      <td>39</td>\n",
       "      <td>0</td>\n",
       "      <td>0</td>\n",
       "      <td>1</td>\n",
       "      <td>0</td>\n",
       "      <td>0</td>\n",
       "      <td>0.121776</td>\n",
       "      <td>30949.127471</td>\n",
       "      <td>797384.0</td>\n",
       "      <td>948.137931</td>\n",
       "    </tr>\n",
       "  </tbody>\n",
       "</table>\n",
       "</div>"
      ],
      "text/plain": [
       "   Age  Driving_License  Region_Code  Previously_Insured  Annual_Premium  \\\n",
       "0   44                1         28.0                   0         40454.0   \n",
       "1   76                1          3.0                   0         33536.0   \n",
       "2   47                1         28.0                   0         38294.0   \n",
       "3   21                1         11.0                   1         28619.0   \n",
       "4   29                1         41.0                   1         27496.0   \n",
       "\n",
       "   Policy_Sales_Channel  Vintage  Response  Gender_Male  Vehicle_Age_< 1 Year  \\\n",
       "0                  26.0      217         1            1                     0   \n",
       "1                  26.0      183         0            1                     0   \n",
       "2                  26.0       27         1            1                     0   \n",
       "3                 152.0      203         0            1                     1   \n",
       "4                 152.0       39         0            0                     1   \n",
       "\n",
       "   Vehicle_Age_> 2 Years  Vehicle_Damage_Yes  Region_Code_Encoded  \\\n",
       "0                      1                   1             0.187163   \n",
       "1                      0                   0             0.127662   \n",
       "2                      1                   1             0.187163   \n",
       "3                      0                   0             0.112760   \n",
       "4                      0                   0             0.121776   \n",
       "\n",
       "   Average_Premium_By_Region  Age_Annual_Pre  Age_Annual_div  \n",
       "0               38668.865245       1779976.0      919.409091  \n",
       "1               24524.480813       2548736.0      441.263158  \n",
       "2               38668.865245       1799818.0      814.765957  \n",
       "3               27607.283146        600999.0     1362.809524  \n",
       "4               30949.127471        797384.0      948.137931  "
      ]
     },
     "execution_count": 57,
     "metadata": {},
     "output_type": "execute_result"
    }
   ],
   "source": [
    "train_7 = train_6.copy()\n",
    "train_7['Age_Annual_Pre'] = train_7['Age']*train_7['Annual_Premium']\n",
    "train_7['Age_Annual_div'] = train_7['Annual_Premium'] / train_7['Age']\n",
    "train_7.head()"
   ]
  },
  {
   "cell_type": "code",
   "execution_count": 58,
   "id": "b28c80e8",
   "metadata": {},
   "outputs": [
    {
     "data": {
      "text/plain": [
       "0.8372286794634642"
      ]
     },
     "execution_count": 58,
     "metadata": {},
     "output_type": "execute_result"
    }
   ],
   "source": [
    "X9 = train_7.drop('Response', axis=1)\n",
    "y9 = train_7['Response']\n",
    "model7 = RandomForestClassifier(n_estimators=100, random_state=42)\n",
    "modeling(X9, y9, model7)"
   ]
  },
  {
   "cell_type": "code",
   "execution_count": 59,
   "id": "7d7a79ea",
   "metadata": {},
   "outputs": [
    {
     "data": {
      "text/plain": [
       "0.8388374102748543"
      ]
     },
     "execution_count": 59,
     "metadata": {},
     "output_type": "execute_result"
    }
   ],
   "source": [
    "model7_1 = RandomForestClassifier(n_estimators=200, random_state=42)\n",
    "modeling(X9, y9, model7_1)"
   ]
  },
  {
   "cell_type": "code",
   "execution_count": 60,
   "id": "3b9fe3a5",
   "metadata": {},
   "outputs": [
    {
     "name": "stdout",
     "output_type": "stream",
     "text": [
      "Feature ranking:\n",
      "1. Feature Vintage: 0.1815870169731547\n",
      "2. Feature Age_Annual_div: 0.14124300894057015\n",
      "3. Feature Age_Annual_Pre: 0.14026419229924125\n",
      "4. Feature Annual_Premium: 0.12455522902897063\n",
      "5. Feature Age: 0.09276006500066991\n",
      "6. Feature Vehicle_Damage_Yes: 0.0694311868083705\n",
      "7. Feature Policy_Sales_Channel: 0.06444704106627029\n",
      "8. Feature Previously_Insured: 0.05175315295954701\n",
      "9. Feature Region_Code_Encoded: 0.03376667365597961\n",
      "10. Feature Average_Premium_By_Region: 0.03200243398816927\n",
      "11. Feature Region_Code: 0.030280513366722536\n",
      "12. Feature Gender_Male: 0.01738953252475598\n",
      "13. Feature Vehicle_Age_< 1 Year: 0.01314211498515007\n",
      "14. Feature Vehicle_Age_> 2 Years: 0.00687324907599907\n",
      "15. Feature Driving_License: 0.0005045893264288213\n"
     ]
    },
    {
     "data": {
      "image/png": "[encoded data removed]",
      "text/plain": [
       "<Figure size 720x432 with 1 Axes>"
      ]
     },
     "metadata": {
      "needs_background": "light"
     },
     "output_type": "display_data"
    }
   ],
   "source": [
    "feature_selection(X9, model7_1)"
   ]
  },
  {
   "cell_type": "code",
   "execution_count": 64,
   "id": "830775ce",
   "metadata": {},
   "outputs": [
    {
     "data": {
      "text/plain": [
       "0.8383559091647282"
      ]
     },
     "execution_count": 64,
     "metadata": {},
     "output_type": "execute_result"
    }
   ],
   "source": [
    "X10 = train_7.drop(['Response', 'Driving_License'], axis=1)\n",
    "y10 = train_7['Response']\n",
    "model8 = RandomForestClassifier(n_estimators=200, random_state=42)\n",
    "modeling(X10, y10, model8)"
   ]
  },
  {
   "cell_type": "code",
   "execution_count": 83,
   "id": "f3983393",
   "metadata": {},
   "outputs": [
    {
     "name": "stdout",
     "output_type": "stream",
     "text": [
      "Fitting 4 folds for each of 10 candidates, totalling 40 fits\n",
      "{'n_estimators': 200, 'min_samples_split': 5, 'min_samples_leaf': 4, 'max_depth': 10, 'criterion': 'gini'}\n"
     ]
    }
   ],
   "source": [
    "random_search = {'criterion': ['entropy', 'gini'],\n",
    "               'max_depth': [2,3,4,5,6,7,10],\n",
    "               'min_samples_leaf': [4, 6, 8],\n",
    "               'min_samples_split': [5, 7,10],\n",
    "               'n_estimators': [200]}\n",
    "X_train, X_test, y_train, y_test = train_test_split(X9, y9, test_size=0.25, random_state= 42)\n",
    "\n",
    "clf = RandomForestClassifier(random_state= 42)\n",
    "model_random = RandomizedSearchCV(estimator = clf, param_distributions = random_search, n_iter = 10, \n",
    "                               cv = 4, verbose= 1, random_state= 42, n_jobs = -1)\n",
    "model_random.fit(X_train, y_train)\n",
    "best_params = model_random.best_params_\n",
    "print(best_params)"
   ]
  },
  {
   "cell_type": "code",
   "execution_count": 84,
   "id": "60e2d284",
   "metadata": {},
   "outputs": [
    {
     "data": {
      "text/plain": [
       "0.8579567898275151"
      ]
     },
     "execution_count": 84,
     "metadata": {},
     "output_type": "execute_result"
    }
   ],
   "source": [
    "model9 = RandomForestClassifier(n_estimators=200, min_samples_split= 5, min_samples_leaf= 4,\n",
    "                                max_depth= 10, criterion= 'gini', random_state=42)\n",
    "modeling(X9, y9, model9)"
   ]
  },
  {
   "cell_type": "markdown",
   "id": "7fa66889",
   "metadata": {},
   "source": [
    "#### Random Forest Classifier (random_state= 42) (metric = ROC AUC)\n",
    "- Base Model: The initial Random Forest model with n_estimators=10 achieved an ROC AUC score of 0.795.\n",
    "\n",
    "- Feature Binning: Applying feature binning to \"Age\" and \"Annual Premium\" did not significantly improve the model's performance, with ROC AUC scores of 0.7919 for n_estimators=10 and 0.8363 for n_estimators=100.\n",
    "\n",
    "- Feature Interaction: Adding feature interactions, such as multiplying \"Age\" and \"Annual Premium\" or dividing \"Annual Premium\" by \"Age\" did not result in a substantial improvement in ROC AUC.\n",
    "\n",
    "- Feature Aggregation: Aggregating features, such as calculating the mean response and premium for each region, resulted in a ROC AUC score of 0.8358 for n_estimators=100.\n",
    "\n",
    "- Combined Feature Interaction and Aggregation: Combining feature interaction (multiply and divide) with feature aggregation (mean response and premium) led to better results, with ROC AUC scores of 0.8372 for n_estimators=100 and 0.8388 for n_estimators=200.\n",
    "\n",
    "- Feature Selection: Dropping the \"Driving_License\" feature after feature interaction and aggregation had a minimal impact on the ROC AUC score, resulting in a score of 0.8383 for n_estimators=200.\n",
    "\n",
    "- Best Model with Hyperparameter Tuning: The best-performing model achieved an ROC AUC score of 0.8579 and was obtained using RandomizedSearchCV to find optimal hyperparameters while including feature interaction and aggregation."
   ]
  },
  {
   "cell_type": "code",
   "execution_count": 77,
   "id": "fda5bd80",
   "metadata": {},
   "outputs": [
    {
     "data": {
      "image/png": "[encoded data removed]",
      "text/plain": [
       "<Figure size 576x432 with 1 Axes>"
      ]
     },
     "metadata": {
      "needs_background": "light"
     },
     "output_type": "display_data"
    }
   ],
   "source": [
    "y_prob = model9.predict_proba(X_test)[:,1]\n",
    "fpr, tpr, thresholds = roc_curve(y_test, y_prob)\n",
    "\n",
    "roc_auc = roc_auc_score(y_test, y_prob)\n",
    "\n",
    "plt.figure(figsize=(8, 6))\n",
    "plt.plot(fpr, tpr, color='darkorange', lw=2, label=f'ROC curve (area = {roc_auc:.2f})')\n",
    "plt.plot([0, 1], [0, 1], color='navy', lw=2, linestyle='--')\n",
    "plt.xlim([0.0, 1.0])\n",
    "plt.ylim([0.0, 1.05])\n",
    "plt.xlabel('False Positive Rate')\n",
    "plt.ylabel('True Positive Rate')\n",
    "plt.title('ROC Curve')\n",
    "plt.legend(loc='lower right')\n",
    "plt.show()"
   ]
  },
  {
   "cell_type": "markdown",
   "id": "51ad0b3f",
   "metadata": {},
   "source": [
    "<div id= \"conclusion\" style= \"font-size: 22px; font-weight: bold\">Conclusion and Future Work</div>"
   ]
  },
  {
   "cell_type": "markdown",
   "id": "d74a0a19",
   "metadata": {},
   "source": [
    "<a href= \"#table-of-contents\" style= \"text-decoration: none; font-size: 14px\">Back to Top</a>"
   ]
  },
  {
   "cell_type": "markdown",
   "id": "151d52a2",
   "metadata": {},
   "source": [
    "### Conclusion\n",
    "- The Health Insurance Cross Sell Prediction project has allowed us to embark on a journey through the intricate landscape of the insurance industry, where data-driven insights hold the key to optimizing strategies and maximizing revenue. We have explored a comprehensive dataset that encompasses customer demographics, insurance history, vehicle information, and policy details, with the ultimate goal of predicting customer interest in vehicle insurance.\n",
    "\n",
    "- Through extensive exploratory data analysis (EDA), we gained a deeper understanding of the dataset's features and their relationships. We witnessed the power of feature engineering, including binning, interaction, and aggregation, in shaping our models' predictive performance. The Random Forest Classifier, with its ability to handle complex interactions and aggregations, emerged as a valuable tool for this predictive task.\n",
    "\n",
    "- Our experimentation unveiled that the combination of feature interaction, aggregation, and hyperparameter tuning significantly improved the model's ability to forecast customer intent, ultimately resulting in a remarkable ROC AUC score of 0.8579.\n",
    "### Future Work\n",
    "Finishing this project, I will apply the model on test.csv and submit it on Kaggle. "
   ]
  },
  {
   "cell_type": "markdown",
   "id": "e7c1b9ac",
   "metadata": {},
   "source": [
    "<div id= \"reference\" style= \"font-size: 22px; font-weight: bold\">Reference</div>"
   ]
  },
  {
   "cell_type": "markdown",
   "id": "16fa09be",
   "metadata": {},
   "source": [
    "<a href= \"#table-of-contents\" style= \"text-decoration: none; font-size: 14px\">Back to Top</a>"
   ]
  },
  {
   "cell_type": "markdown",
   "id": "2cda68d8",
   "metadata": {},
   "source": [
    "[1] #Rank 10 solution cross sell prediction hackathon by ROSHAN KUMAR G: <a href=\"https://www.kaggle.com/code/roshankumarg/rank-10-solution-cross-sell-prediction-hackathon#Problem-statement-\">Link</a>\\\n",
    "[2] Vehicle Insurance EDA and boosting models by YASHVI PATEL: <a href=\"https://www.kaggle.com/code/yashvi/vehicle-insurance-eda-and-boosting-models#Import-Libraries\">Link</a>"
   ]
  }
 ],
 "metadata": {
  "kernelspec": {
   "display_name": "Python 3 (ipykernel)",
   "language": "python",
   "name": "python3"
  },
  "language_info": {
   "codemirror_mode": {
    "name": "ipython",
    "version": 3
   },
   "file_extension": ".py",
   "mimetype": "text/x-python",
   "name": "python",
   "nbconvert_exporter": "python",
   "pygments_lexer": "ipython3",
   "version": "3.9.7"
  }
 },
 "nbformat": 4,
 "nbformat_minor": 5
}
