{
 "cells": [
  {
   "cell_type": "code",
   "execution_count": 1,
   "id": "12a83f65",
   "metadata": {},
   "outputs": [],
   "source": [
    "import dash\n",
    "from dash import dcc, html\n",
    "from dash.dependencies import Input, Output\n",
    "import pandas as pd\n",
    "from sklearn.feature_extraction.text import TfidfVectorizer\n",
    "from sklearn.metrics.pairwise import cosine_similarity\n",
    "\n",
    "df2 = pd.read_csv('BigBasket.csv')  \n",
    "df2 = df2.drop_duplicates(subset=['product']).reset_index(drop = True)\n",
    "df2 = df2.drop(['index','sale_price', 'market_price', 'rating', 'description'], axis = 1)\n",
    "df2 = df2.dropna().reset_index(drop = True)\n",
    "\n",
    "def process_and_combine(row):\n",
    "    combined = ' '.join(row.drop('product')).lower()\n",
    "    return f\"{combined}\"\n",
    "\n",
    "df2['soup'] = df2.apply(process_and_combine, axis=1)\n",
    "df2['soup'] = df2['soup'].str.replace(r'[&,]', ' ', regex=True)\n",
    "df2['soup'] = df2['soup'].str.split().str.join(' ')"
   ]
  },
  {
   "cell_type": "code",
   "execution_count": 2,
   "id": "72140877",
   "metadata": {},
   "outputs": [],
   "source": [
    "tfidf = TfidfVectorizer(stop_words='english')\n",
    "tfidf_matrix = tfidf.fit_transform(df2['soup'])\n",
    "cos_sim = cosine_similarity(tfidf_matrix, tfidf_matrix)\n",
    "indices = pd.Series(df2['product'])"
   ]
  },
  {
   "cell_type": "code",
   "execution_count": 4,
   "id": "8f867b27",
   "metadata": {},
   "outputs": [],
   "source": [
    "def recommendations(title, cosine_sim=cos_sim):\n",
    "    index = indices[indices == title].index[0]\n",
    "    similarity_scores = pd.Series(cosine_sim[index]).sort_values(ascending=False)\n",
    "    top_10_products = list(similarity_scores.iloc[1:11].index)\n",
    "    return [list(df2['product'])[i] for i in top_10_products]"
   ]
  },
  {
   "cell_type": "code",
   "execution_count": 5,
   "id": "64e3a448",
   "metadata": {},
   "outputs": [
    {
     "data": {
      "text/plain": [
       "['Powder - Chilli',\n",
       " 'Combo Pack - Chilli, Turmeric & Coriander (200g Each)',\n",
       " 'Compounded Asafoetida - Cake',\n",
       " 'Asafoetida Powder',\n",
       " 'Punjabi Chole Masala',\n",
       " 'Paneer Masala',\n",
       " 'Biriyani masala',\n",
       " 'Meat/Mutton Masala',\n",
       " 'Red Chilli Powder 200G +Coriander/Dhania Powder 200G +Turmeric/Haldi Powder 200G',\n",
       " 'Chicken Tandoori Masala']"
      ]
     },
     "execution_count": 5,
     "metadata": {},
     "output_type": "execute_result"
    }
   ],
   "source": [
    "recommendations(\"Turmeric Powder/Arisina Pudi\")"
   ]
  },
  {
   "cell_type": "code",
   "execution_count": 7,
   "id": "68fc58f0",
   "metadata": {},
   "outputs": [],
   "source": [
    "recommendations_data = []\n",
    "\n",
    "for product in df2['product']:\n",
    "    recommended_products = recommendations(product)\n",
    "    recommendations_data.append([product, recommended_products])"
   ]
  },
  {
   "cell_type": "code",
   "execution_count": 9,
   "id": "d55d2069",
   "metadata": {},
   "outputs": [],
   "source": [
    "# Tạo DataFrame từ danh sách recommendations_data\n",
    "recommendations_df = pd.DataFrame(recommendations_data, columns=['product', '10_rcm_product'])"
   ]
  },
  {
   "cell_type": "code",
   "execution_count": 13,
   "id": "444768d9",
   "metadata": {},
   "outputs": [
    {
     "data": {
      "text/plain": [
       "['Powder - Chilli',\n",
       " 'Combo Pack - Chilli, Turmeric & Coriander (200g Each)',\n",
       " 'Compounded Asafoetida - Cake',\n",
       " 'Asafoetida Powder',\n",
       " 'Punjabi Chole Masala',\n",
       " 'Paneer Masala',\n",
       " 'Biriyani masala',\n",
       " 'Meat/Mutton Masala',\n",
       " 'Red Chilli Powder 200G +Coriander/Dhania Powder 200G +Turmeric/Haldi Powder 200G',\n",
       " 'Chicken Tandoori Masala']"
      ]
     },
     "execution_count": 13,
     "metadata": {},
     "output_type": "execute_result"
    }
   ],
   "source": [
    "recommendations_df[recommendations_df['product'] == 'Turmeric Powder/Arisina Pudi'].values[0][1]"
   ]
  },
  {
   "cell_type": "code",
   "execution_count": 20,
   "id": "eaa427bf",
   "metadata": {},
   "outputs": [
    {
     "data": {
      "text/html": [
       "\n",
       "        <iframe\n",
       "            width=\"100%\"\n",
       "            height=\"650\"\n",
       "            src=\"http://127.0.0.1:8050/\"\n",
       "            frameborder=\"0\"\n",
       "            allowfullscreen\n",
       "            \n",
       "        ></iframe>\n",
       "        "
      ],
      "text/plain": [
       "<IPython.lib.display.IFrame at 0x1fada6b1820>"
      ]
     },
     "metadata": {},
     "output_type": "display_data"
    }
   ],
   "source": [
    "app = dash.Dash(__name__)\n",
    "server = app.server\n",
    "\n",
    "app.layout = html.Div(\n",
    "    style={\n",
    "        'width': '600px',\n",
    "        'height': '400px',\n",
    "        'padding': '10px',\n",
    "        'font-family': 'cursive',\n",
    "        'background-color': '#FFC7C7',\n",
    "        'border-radius': '16px',\n",
    "        'display': 'flex',\n",
    "        'flex-direction': 'column',\n",
    "        'gap': '10px'\n",
    "    },\n",
    "    children=[\n",
    "        html.H1(\"Product Recommendation System\", style={'text-align': 'center', 'color': '#8785A2'}),\n",
    "        dcc.Dropdown(\n",
    "            id='product-dropdown',\n",
    "            options=[{'label': product, 'value': product} for product in recommendations_df['product']],\n",
    "            value='Turmeric Powder/Arisina Pudi',\n",
    "            style={\n",
    "                'background-color': '#FFE2E2',\n",
    "                'color': '#8785A2',\n",
    "                'border': '1px solid #8785A2',\n",
    "                'font-size': '14px',\n",
    "                'border-radius': '8px'\n",
    "            },\n",
    "        ),\n",
    "        html.Div(id='recommendations', style={'background-color': 'white', 'border-radius': '8px'})\n",
    "    ]\n",
    ")\n",
    "\n",
    "@app.callback(\n",
    "    Output('recommendations', 'children'),\n",
    "    [Input('product-dropdown', 'value')]\n",
    ")\n",
    "def update_recommendations(selected_product):\n",
    "    recommended_products = recommendations_df[recommendations_df['product'] == selected_product].values[0][1]\n",
    "\n",
    "    return html.Div(\n",
    "        children=[html.P(product, style={'color': '#8785A2', 'font-size': '14px', 'line-height': '10px'})\n",
    "                  for product in recommended_products], style={'padding-left': '10px'})\n",
    "\n",
    "if __name__ == '__main__':\n",
    "    app.run_server(debug=False)\n"
   ]
  },
  {
   "cell_type": "code",
   "execution_count": 21,
   "id": "19766cd7",
   "metadata": {},
   "outputs": [
    {
     "data": {
      "text/plain": [
       "['Water Bottle - Fridge, Tulip, Dark Blue',\n",
       " 'H2O Unbreakable Water Bottle - Pink',\n",
       " 'Water Bottle - Crystal, Blue',\n",
       " 'H2O Unbreakable Water Bottle - Blue',\n",
       " 'Glass Water Bottle - Circo Multicolour Flowers',\n",
       " 'H2o Unbreakable Water Bottle - Orange',\n",
       " 'Water Bottle - Polka, Orange',\n",
       " 'Water Bottle - Fridge, Tulip, Purple',\n",
       " 'Glass Water Bottle - Bri Black & Grey',\n",
       " 'Glass Water Bottle - Circo Orange & Lemon']"
      ]
     },
     "execution_count": 21,
     "metadata": {},
     "output_type": "execute_result"
    }
   ],
   "source": [
    "recommendations(\"Glass Water Bottle - Aquaria Organic Purple\")"
   ]
  },
  {
   "cell_type": "code",
   "execution_count": 22,
   "id": "cc13a59f",
   "metadata": {},
   "outputs": [],
   "source": [
    "recommendations_df.to_csv('Product_rcm_data.csv', index=False)"
   ]
  },
  {
   "cell_type": "code",
   "execution_count": 14,
   "id": "4c098306",
   "metadata": {},
   "outputs": [],
   "source": [
    "import pandas as pd\n",
    "recommendations_df = pd.read_csv('Product_rcm_data.csv')"
   ]
  },
  {
   "cell_type": "code",
   "execution_count": 18,
   "id": "d2a65fde",
   "metadata": {
    "scrolled": true
   },
   "outputs": [
    {
     "data": {
      "text/plain": [
       "['Sukesha Taila - for Healthy Hair',\n",
       " 'Brahmi Bhringaraj Taila - Anti Graying',\n",
       " 'Flaxseed Oil - Omega-3',\n",
       " 'Omega-6',\n",
       " 'Omega-9 Vegetarian Capsule',\n",
       " 'Evening Primrose Oil - Vegetarian Capsule (500 mg)',\n",
       " 'Rejuvenating Night Cream - Cucumber Lime & Aloe Vera',\n",
       " 'Exfoliating Face Scrub - Aloe Vera & Grapes',\n",
       " 'Face Scrub - Walnut Orange',\n",
       " 'Anti Acne Gel - for Spotless Skin',\n",
       " 'Protecting Sunscreen - Aloe Vera Rose & Almond',\n",
       " 'Dawn to Dusk Fortifying Cream - Rose Cucumber & Almond']"
      ]
     },
     "execution_count": 18,
     "metadata": {},
     "output_type": "execute_result"
    }
   ],
   "source": [
    "# Chuỗi giá trị sản phẩm\n",
    "product_str = \"['Sukesha Taila - for Healthy Hair', 'Brahmi Bhringaraj Taila - Anti Graying', 'Flaxseed Oil - Omega-3, Omega-6, Omega-9 Vegetarian Capsule', 'Evening Primrose Oil - Vegetarian Capsule (500 mg)', 'Rejuvenating Night Cream - Cucumber Lime & Aloe Vera', 'Exfoliating Face Scrub - Aloe Vera & Grapes', 'Face Scrub - Walnut Orange', 'Anti Acne Gel - for Spotless Skin', 'Protecting Sunscreen - Aloe Vera Rose & Almond', 'Dawn to Dusk Fortifying Cream - Rose Cucumber & Almond']\"\n",
    "\n",
    "# Tách giá trị thành danh sách\n",
    "product_list = [product.strip(\" '[]\") for product in product_str.split(',')]\n",
    "product_list"
   ]
  },
  {
   "cell_type": "code",
   "execution_count": 21,
   "id": "5b635edb",
   "metadata": {},
   "outputs": [
    {
     "data": {
      "text/plain": [
       "'Sukesha Taila - for Healthy Hair'"
      ]
     },
     "execution_count": 21,
     "metadata": {},
     "output_type": "execute_result"
    }
   ],
   "source": [
    "product_list[0]"
   ]
  },
  {
   "cell_type": "code",
   "execution_count": 19,
   "id": "4ea31aef",
   "metadata": {},
   "outputs": [
    {
     "data": {
      "text/plain": [
       "0        'Sukesha Taila - for Healthy Hair', 'Brahmi Bh...\n",
       "1        'Double Walled Glass Bottle With Gray Cap - BB...\n",
       "2        'Brass Angle Deep Stand - Plain, No.3', 'Brass...\n",
       "3        'Maharaja Plastic Basket With Lid - Small', 'T...\n",
       "4        'Creme Care Soap - For Hands & Body', 'Soap - ...\n",
       "                               ...                        \n",
       "23534    'Wash Sponge - Micro Fiber Chenille', 'Dustpac...\n",
       "23535    'Organic Seeds - Brown Mustard/Sasive', 'Black...\n",
       "23536    'Wottagirl - Divine Perfume Spray', 'Wottagirl...\n",
       "23537    'Barbeque Beetroot Chips', 'Chia Seeds Chips',...\n",
       "23538    'Black Tea', 'Elaichi Tea', 'Masala Tea', 'Tea...\n",
       "Name: 10_rcm_product, Length: 23539, dtype: object"
      ]
     },
     "execution_count": 19,
     "metadata": {},
     "output_type": "execute_result"
    }
   ],
   "source": [
    "# Xóa dấu ngoặc vuông từ cột '10_rcm_product'\n",
    "recommendations_df['10_rcm_product'] = recommendations_df['10_rcm_product'].str.replace(r'\\[|\\]', '', regex=True)\n",
    "recommendations_df['10_rcm_product']\n",
    "# Lưu DataFrame vào tệp CSV mới\n",
    "# recommendations_df.to_csv('Cleaned_Product_rcm_data.csv', index=False)\n"
   ]
  },
  {
   "cell_type": "code",
   "execution_count": 12,
   "id": "0d22b992",
   "metadata": {},
   "outputs": [],
   "source": [
    "df = pd.read_csv('Product_rcm_data.csv')\n",
    "# recommendations_df['10_rcm_product'] = recommendations_df['10_rcm_product'].str.replace(r\"\\[|\\]|\\'\", '', regex=True)\n"
   ]
  },
  {
   "cell_type": "code",
   "execution_count": 13,
   "id": "9cd6b55c",
   "metadata": {},
   "outputs": [
    {
     "data": {
      "text/html": [
       "<div>\n",
       "<style scoped>\n",
       "    .dataframe tbody tr th:only-of-type {\n",
       "        vertical-align: middle;\n",
       "    }\n",
       "\n",
       "    .dataframe tbody tr th {\n",
       "        vertical-align: top;\n",
       "    }\n",
       "\n",
       "    .dataframe thead th {\n",
       "        text-align: right;\n",
       "    }\n",
       "</style>\n",
       "<table border=\"1\" class=\"dataframe\">\n",
       "  <thead>\n",
       "    <tr style=\"text-align: right;\">\n",
       "      <th></th>\n",
       "      <th>product</th>\n",
       "      <th>10_rcm_product</th>\n",
       "    </tr>\n",
       "  </thead>\n",
       "  <tbody>\n",
       "    <tr>\n",
       "      <th>0</th>\n",
       "      <td>Garlic Oil - Vegetarian Capsule 500 mg</td>\n",
       "      <td>['Sukesha Taila - for Healthy Hair', 'Brahmi B...</td>\n",
       "    </tr>\n",
       "    <tr>\n",
       "      <th>1</th>\n",
       "      <td>Water Bottle - Orange</td>\n",
       "      <td>['Double Walled Glass Bottle With Gray Cap - B...</td>\n",
       "    </tr>\n",
       "    <tr>\n",
       "      <th>2</th>\n",
       "      <td>Brass Angle Deep - Plain, No.2</td>\n",
       "      <td>['Brass Angle Deep Stand - Plain, No.3', 'Bras...</td>\n",
       "    </tr>\n",
       "    <tr>\n",
       "      <th>3</th>\n",
       "      <td>Cereal Flip Lid Container/Storage Jar - Assort...</td>\n",
       "      <td>['Maharaja Plastic Basket With Lid - Small', '...</td>\n",
       "    </tr>\n",
       "    <tr>\n",
       "      <th>4</th>\n",
       "      <td>Creme Soft Soap - For Hands &amp; Body</td>\n",
       "      <td>['Creme Care Soap - For Hands &amp; Body', 'Soap -...</td>\n",
       "    </tr>\n",
       "  </tbody>\n",
       "</table>\n",
       "</div>"
      ],
      "text/plain": [
       "                                             product  \\\n",
       "0             Garlic Oil - Vegetarian Capsule 500 mg   \n",
       "1                              Water Bottle - Orange   \n",
       "2                     Brass Angle Deep - Plain, No.2   \n",
       "3  Cereal Flip Lid Container/Storage Jar - Assort...   \n",
       "4                 Creme Soft Soap - For Hands & Body   \n",
       "\n",
       "                                      10_rcm_product  \n",
       "0  ['Sukesha Taila - for Healthy Hair', 'Brahmi B...  \n",
       "1  ['Double Walled Glass Bottle With Gray Cap - B...  \n",
       "2  ['Brass Angle Deep Stand - Plain, No.3', 'Bras...  \n",
       "3  ['Maharaja Plastic Basket With Lid - Small', '...  \n",
       "4  ['Creme Care Soap - For Hands & Body', 'Soap -...  "
      ]
     },
     "execution_count": 13,
     "metadata": {},
     "output_type": "execute_result"
    }
   ],
   "source": [
    "df.head()"
   ]
  },
  {
   "cell_type": "code",
   "execution_count": 18,
   "id": "ec05eda4",
   "metadata": {},
   "outputs": [
    {
     "data": {
      "text/plain": [
       "'Steel Dinner Plate/Thali - No. 12, China'"
      ]
     },
     "execution_count": 18,
     "metadata": {},
     "output_type": "execute_result"
    }
   ],
   "source": [
    "ast.literal_eval(df[df['product'] == 'Stainless Steel Pav Bhaji/Idli Oval Shaped Plate']['10_rcm_product'].values[0])[4]"
   ]
  },
  {
   "cell_type": "code",
   "execution_count": null,
   "id": "4b26c11e",
   "metadata": {},
   "outputs": [],
   "source": []
  },
  {
   "cell_type": "code",
   "execution_count": null,
   "id": "377e4b03",
   "metadata": {},
   "outputs": [],
   "source": []
  },
  {
   "cell_type": "code",
   "execution_count": 38,
   "id": "67f76bfd",
   "metadata": {},
   "outputs": [
    {
     "data": {
      "text/plain": [
       "'Brahmi Bhringaraj Taila - Anti Graying'"
      ]
     },
     "execution_count": 38,
     "metadata": {},
     "output_type": "execute_result"
    }
   ],
   "source": [
    "recommendations_df['10_rcm_product'][0].split(', ')"
   ]
  },
  {
   "cell_type": "code",
   "execution_count": null,
   "id": "57fa91e9",
   "metadata": {},
   "outputs": [],
   "source": []
  }
 ],
 "metadata": {
  "kernelspec": {
   "display_name": "Python 3 (ipykernel)",
   "language": "python",
   "name": "python3"
  },
  "language_info": {
   "codemirror_mode": {
    "name": "ipython",
    "version": 3
   },
   "file_extension": ".py",
   "mimetype": "text/x-python",
   "name": "python",
   "nbconvert_exporter": "python",
   "pygments_lexer": "ipython3",
   "version": "3.9.7"
  }
 },
 "nbformat": 4,
 "nbformat_minor": 5
}
